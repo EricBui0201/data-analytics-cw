{
 "cells": [
  {
   "cell_type": "code",
   "execution_count": 83,
   "metadata": {
    "colab": {},
    "colab_type": "code",
    "id": "5vbF1Z5JIozs"
   },
   "outputs": [],
   "source": [
    "import pandas as pd\n",
    "import numpy as np\n",
    "import seaborn as sns\n",
    "\n",
    "import matplotlib.pyplot as plt\n",
    "plt.style.use('ggplot')\n",
    "plt.rcParams[\"figure.figsize\"] = [16,9]\n",
    "%matplotlib inline"
   ]
  },
  {
   "cell_type": "code",
   "execution_count": 84,
   "metadata": {
    "colab": {},
    "colab_type": "code",
    "id": "YumkPXubLGew"
   },
   "outputs": [],
   "source": [
    "#Parsing date column of both datasets to be read by python\n",
    "\n",
    "pdata = pd.read_csv('data/pollution-1.csv',parse_dates=['ReadingDateTime'])\n",
    "wdata = pd.read_csv('data/weather-1.csv',parse_dates=['DATE'])"
   ]
  },
  {
   "cell_type": "code",
   "execution_count": 85,
   "metadata": {},
   "outputs": [],
   "source": [
    "#Extracting numerical values of dew point, temperature, wind speed (converting from mps to kmph) and direction\n",
    "\n",
    "wdata['DEW'] = wdata['DEW'].str[:-2].astype(np.float64)/10\n",
    "wdata['TMP'] = wdata['TMP'].str[:-2].astype(np.float64)/10\n",
    "wdata['DIR'] = wdata['WND'].str[:3].astype(np.float64)\n",
    "wdata['SPD'] = (wdata['WND'].str[8:-2].astype(np.float64)/10)*3.6\n",
    "\n",
    "#Calculating relative humidity from dew point and temperature\n",
    "\n",
    "wdata['HUM'] = 100*(np.exp((17.625 * wdata['DEW'])/(243.04 + wdata['DEW']))/np.exp((17.625 * wdata['TMP'])/(243.04 + wdata['TMP'])))\n",
    "\n",
    "#Replacing missing wind direction observations with nulls\n",
    "\n",
    "wdata.DIR.replace(999,np.nan,inplace=True)"
   ]
  },
  {
   "cell_type": "code",
   "execution_count": 72,
   "metadata": {},
   "outputs": [],
   "source": [
    "#Downsampling the weather dataset\n",
    "\n",
    "wdata.index=wdata['DATE']\n",
    "wdata_resampled = wdata.resample('1H').mean()[:17520]\n",
    "wdata = wdata_resampled.reset_index()"
   ]
  },
  {
   "cell_type": "code",
   "execution_count": 73,
   "metadata": {},
   "outputs": [],
   "source": [
    "#Joining the weather and pollution datasets\n",
    "\n",
    "data = pd.concat([wdata['DATE'], wdata['DEW'],wdata['TMP'],wdata['DIR'],wdata['SPD'],wdata['HUM'],pdata.Value[pdata.Species=='NO2'].reset_index(drop=True).rename('NO2'),pdata.Value[(pdata.Species=='O3')].reset_index(drop=True).rename('O3'),pdata.Value[(pdata.Species=='PM2.5')].reset_index(drop=True).rename('PM25')], axis=1)"
   ]
  },
  {
   "cell_type": "code",
   "execution_count": 74,
   "metadata": {},
   "outputs": [
    {
     "name": "stdout",
     "output_type": "stream",
     "text": [
      "DEW: 9\n",
      "TMP: 9\n",
      "DIR: 0\n",
      "SPD: 10\n",
      "HUM: 0\n",
      "NO2: 0\n",
      "O3: 9\n",
      "PM25: 128\n"
     ]
    }
   ],
   "source": [
    "#Number of possible outilers\n",
    "\n",
    "print('DEW:',((data['DEW'] <= -99) | (data['DEW'] >= 37)).sum())\n",
    "\n",
    "print('TMP:',((data['TMP'] <= -94) | (data['TMP'] >= 62)).sum())\n",
    "\n",
    "print('DIR:',((data['DIR'] < 1) | (data['DIR'] > 360)).sum())\n",
    "\n",
    "print('SPD:',((data['SPD'] < 0) | (data['SPD'] > 324)).sum())\n",
    "\n",
    "print('HUM:',((data['HUM'] < 0) | (data['HUM'] > 100)).sum())\n",
    "\n",
    "print('NO2:',((data['NO2'] < 0) | (data['NO2'] > 601)).sum())\n",
    "\n",
    "print('O3:',((data['O3'] < 0) | (data['O3'] > 241)).sum())\n",
    "\n",
    "print('PM25:',((data['PM25'] < 0) | (data['PM25'] > 71)).sum())"
   ]
  },
  {
   "cell_type": "code",
   "execution_count": 75,
   "metadata": {},
   "outputs": [
    {
     "data": {
      "text/html": [
       "<div>\n",
       "<style scoped>\n",
       "    .dataframe tbody tr th:only-of-type {\n",
       "        vertical-align: middle;\n",
       "    }\n",
       "\n",
       "    .dataframe tbody tr th {\n",
       "        vertical-align: top;\n",
       "    }\n",
       "\n",
       "    .dataframe thead th {\n",
       "        text-align: right;\n",
       "    }\n",
       "</style>\n",
       "<table border=\"1\" class=\"dataframe\">\n",
       "  <thead>\n",
       "    <tr style=\"text-align: right;\">\n",
       "      <th></th>\n",
       "      <th>Species</th>\n",
       "      <th>Min</th>\n",
       "      <th>Max</th>\n",
       "    </tr>\n",
       "  </thead>\n",
       "  <tbody>\n",
       "    <tr>\n",
       "      <th>0</th>\n",
       "      <td>DEW</td>\n",
       "      <td>-9.000000</td>\n",
       "      <td>508.95000</td>\n",
       "    </tr>\n",
       "    <tr>\n",
       "      <th>1</th>\n",
       "      <td>TMP</td>\n",
       "      <td>-5.000000</td>\n",
       "      <td>513.45000</td>\n",
       "    </tr>\n",
       "    <tr>\n",
       "      <th>2</th>\n",
       "      <td>DIR</td>\n",
       "      <td>10.000000</td>\n",
       "      <td>360.00000</td>\n",
       "    </tr>\n",
       "    <tr>\n",
       "      <th>3</th>\n",
       "      <td>SPD</td>\n",
       "      <td>0.000000</td>\n",
       "      <td>3599.64000</td>\n",
       "    </tr>\n",
       "    <tr>\n",
       "      <th>4</th>\n",
       "      <td>HUM</td>\n",
       "      <td>21.789608</td>\n",
       "      <td>100.00000</td>\n",
       "    </tr>\n",
       "    <tr>\n",
       "      <th>5</th>\n",
       "      <td>NO2</td>\n",
       "      <td>4.300000</td>\n",
       "      <td>181.39999</td>\n",
       "    </tr>\n",
       "    <tr>\n",
       "      <th>6</th>\n",
       "      <td>O3</td>\n",
       "      <td>-1.600000</td>\n",
       "      <td>130.70000</td>\n",
       "    </tr>\n",
       "    <tr>\n",
       "      <th>7</th>\n",
       "      <td>PM25</td>\n",
       "      <td>-5.800000</td>\n",
       "      <td>101.20000</td>\n",
       "    </tr>\n",
       "  </tbody>\n",
       "</table>\n",
       "</div>"
      ],
      "text/plain": [
       "  Species        Min         Max\n",
       "0     DEW  -9.000000   508.95000\n",
       "1     TMP  -5.000000   513.45000\n",
       "2     DIR  10.000000   360.00000\n",
       "3     SPD   0.000000  3599.64000\n",
       "4     HUM  21.789608   100.00000\n",
       "5     NO2   4.300000   181.39999\n",
       "6      O3  -1.600000   130.70000\n",
       "7    PM25  -5.800000   101.20000"
      ]
     },
     "execution_count": 75,
     "metadata": {},
     "output_type": "execute_result"
    }
   ],
   "source": [
    "#Max and min values before removing outliers\n",
    "\n",
    "minmax = {'Species': ['DEW', 'TMP', 'DIR', 'SPD', 'HUM','NO2','O3','PM25'], \n",
    "        'Min': [data['DEW'].min(), data['TMP'].min(),data['DIR'].min(),data['SPD'].min(),data['HUM'].min(),data['NO2'].min(),data['O3'].min(),data['PM25'].min()], \n",
    "        'Max': [data['DEW'].max(), data['TMP'].max(),data['DIR'].max(),data['SPD'].max(),data['HUM'].max(),data['NO2'].max(),data['O3'].max(),data['PM25'].max()]}\n",
    "pd.DataFrame(minmax, columns = ['Species', 'Min', 'Max'])"
   ]
  },
  {
   "cell_type": "code",
   "execution_count": 86,
   "metadata": {},
   "outputs": [],
   "source": [
    "#Replacing outliers with nulls\n",
    "#Ozone cannot be negative\n",
    "#PM2.5 outlier is a possible value\n",
    "dew_out = data.DEW[(data['DEW'] <= -99) | (data['DEW'] >= 37)]\n",
    "tmp_out = data.TMP[(data['TMP'] <= -94) | (data['TMP'] >= 62)]\n",
    "spd_out = data.SPD[(data['SPD'] < 0) | (data['SPD'] > 324)]\n",
    "o3_out = data.O3[(data['O3'] < 0) | (data['O3'] > 241)]\n",
    "pm25_out = data.PM25[(data['PM25'] < 0)]\n",
    "data.DEW.replace(dew_out,np.nan,inplace=True)\n",
    "data.TMP.replace(tmp_out,np.nan,inplace=True)\n",
    "data.SPD.replace(spd_out,np.nan,inplace=True)\n",
    "data.O3.replace(o3_out,np.nan,inplace=True)\n",
    "data.PM25.replace(pm25_out,np.nan,inplace=True)"
   ]
  },
  {
   "cell_type": "code",
   "execution_count": 87,
   "metadata": {},
   "outputs": [],
   "source": [
    "# Add code here to fill null values\n",
    "# data.to_csv('fillna.csv',index=False)"
   ]
  },
  {
   "cell_type": "code",
   "execution_count": 88,
   "metadata": {},
   "outputs": [],
   "source": [
    "#Checking number of null values\n",
    "\n",
    "# data.isna().sum()\n",
    "#data_mean = pd.read_csv('fillnamean.csv',parse_dates=['DATE'])\n",
    "#data_recent = pd.read_csv('fillnalatest.csv',parse_dates=['DATE'])"
   ]
  },
  {
   "cell_type": "code",
   "execution_count": 89,
   "metadata": {},
   "outputs": [],
   "source": [
    "#Adding date features\n",
    "\n",
    "data['MONTH'] = pd.DatetimeIndex(data['DATE']).month\n",
    "data['HOUR'] = pd.DatetimeIndex(data['DATE']).hour\n",
    "data['DAY'] = data['DATE'].dt.weekday_name\n",
    "data['DAY_CAT'] = data.DAY.astype(\"category\").cat.codes"
   ]
  },
  {
   "cell_type": "code",
   "execution_count": 90,
   "metadata": {},
   "outputs": [],
   "source": [
    "# Adding time shifted features\n",
    "## This is done before removing nulls so that the dataset is continuous\n",
    "### To be cleaned up into a function\n",
    "\n",
    "data['DEW_1'] = data.DEW.shift(periods=1)\n",
    "data['TMP_1'] = data.TMP.shift(periods=1)\n",
    "data['DIR_1'] = data.DIR.shift(periods=1)\n",
    "data['SPD_1'] = data.SPD.shift(periods=1)\n",
    "data['HUM_1'] = data.HUM.shift(periods=1)\n",
    "data['NO2_1'] = data.NO2.shift(periods=1)\n",
    "data['O3_1'] = data.O3.shift(periods=1)\n",
    "data['PM25_1'] = data.PM25.shift(periods=1)\n",
    "\n",
    "data['DEW_2'] = data.DEW.shift(periods=2)\n",
    "data['TMP_2'] = data.TMP.shift(periods=2)\n",
    "data['DIR_2'] = data.DIR.shift(periods=2)\n",
    "data['HUM_2'] = data.HUM.shift(periods=2)\n",
    "data['SPD_2'] = data.SPD.shift(periods=2)\n",
    "data['NO2_2'] = data.NO2.shift(periods=2)\n",
    "data['O3_2'] = data.O3.shift(periods=2)\n",
    "data['PM25_2'] = data.PM25.shift(periods=2)\n",
    "\n",
    "data['DEW_3'] = data.DEW.shift(periods=3)\n",
    "data['TMP_3'] = data.TMP.shift(periods=3)\n",
    "data['DIR_3'] = data.DIR.shift(periods=3)\n",
    "data['HUM_3'] = data.HUM.shift(periods=3)\n",
    "data['SPD_3'] = data.SPD.shift(periods=3)\n",
    "data['NO2_3'] = data.NO2.shift(periods=3)\n",
    "data['O3_3'] = data.O3.shift(periods=3)\n",
    "data['PM25_3'] = data.PM25.shift(periods=3)\n",
    "\n",
    "data['DEW_4'] = data.DEW.shift(periods=4)\n",
    "data['TMP_4'] = data.TMP.shift(periods=4)\n",
    "data['DIR_4'] = data.DIR.shift(periods=4)\n",
    "data['HUM_4'] = data.HUM.shift(periods=4)\n",
    "data['SPD_4'] = data.SPD.shift(periods=4)\n",
    "data['NO2_4'] = data.NO2.shift(periods=4)\n",
    "data['O3_4'] = data.O3.shift(periods=4)\n",
    "data['PM25_4'] = data.PM25.shift(periods=4)\n",
    "\n",
    "data['DEW_5'] = data.DEW.shift(periods=5)\n",
    "data['TMP_5'] = data.TMP.shift(periods=5)\n",
    "data['DIR_5'] = data.DIR.shift(periods=5)\n",
    "data['HUM_5'] = data.HUM.shift(periods=5)\n",
    "data['SPD_5'] = data.SPD.shift(periods=5)\n",
    "data['NO2_5'] = data.NO2.shift(periods=5)\n",
    "data['O3_5'] = data.O3.shift(periods=5)\n",
    "data['PM25_5'] = data.PM25.shift(periods=5)"
   ]
  },
  {
   "cell_type": "code",
   "execution_count": null,
   "metadata": {},
   "outputs": [],
   "source": [
    "#Checking number of null values\n",
    "\n",
    "data.isna().sum()"
   ]
  },
  {
   "cell_type": "code",
   "execution_count": null,
   "metadata": {},
   "outputs": [],
   "source": [
    "#Percentage of null values in final dataset\n",
    "\n",
    "data.isna().mean().round(4) * 100"
   ]
  },
  {
   "cell_type": "code",
   "execution_count": 91,
   "metadata": {},
   "outputs": [
    {
     "data": {
      "text/plain": [
       "(6314, 53)"
      ]
     },
     "execution_count": 91,
     "metadata": {},
     "output_type": "execute_result"
    }
   ],
   "source": [
    "# Show rows where any cell has a NaN\n",
    "data[data.isnull().any(axis=1)].shape"
   ]
  },
  {
   "cell_type": "code",
   "execution_count": 68,
   "metadata": {},
   "outputs": [],
   "source": [
    "# data_final = data.dropna(axis=0).reset_index(drop=True)\n",
    "# data_final = data_final.drop(['DATE','DAY'], axis=1)\n",
    "# data_final.to_csv('final.csv',index=False)"
   ]
  },
  {
   "cell_type": "code",
   "execution_count": 82,
   "metadata": {},
   "outputs": [],
   "source": [
    "# data_noshift = data.dropna(axis=0).reset_index(drop=True)\n",
    "# data_noshift = data_noshift.drop(['DATE','DAY'], axis=1)\n",
    "# data_noshift.to_csv('final-noshift.csv',index=False)"
   ]
  },
  {
   "cell_type": "code",
   "execution_count": 82,
   "metadata": {},
   "outputs": [],
   "source": [
    "# data_new = data.dropna(axis=0).reset_index(drop=True)\n",
    "# data_new.drop(['DATE','DAY'], axis=1,inplace=True)\n",
    "# data_new.to_csv('final-new.csv',index=False)"
   ]
  },
  {
   "cell_type": "code",
   "execution_count": 53,
   "metadata": {},
   "outputs": [],
   "source": [
    "# data_mean = data.dropna(axis=0).reset_index(drop=True)\n",
    "# data_mean.drop(['DATE','DAY'], axis=1,inplace=True)\n",
    "# data_mean.to_csv('final-mean.csv',index=False)"
   ]
  },
  {
   "cell_type": "code",
   "execution_count": 67,
   "metadata": {},
   "outputs": [],
   "source": [
    "# data_recent = data.dropna(axis=0).reset_index(drop=True)\n",
    "# data_recent.drop(['DATE','DAY'], axis=1,inplace=True)\n",
    "# data_recent.to_csv('final-recent.csv',index=False)"
   ]
  },
  {
   "cell_type": "code",
   "execution_count": null,
   "metadata": {},
   "outputs": [],
   "source": [
    "# data_filled = data.fillna(value=0)\n",
    "# data_filled = data_filled.drop(['DATE','DAY'], axis=1)\n",
    "# data_filled.to_csv('final-filled.csv',index=False)"
   ]
  },
  {
   "cell_type": "code",
   "execution_count": 92,
   "metadata": {},
   "outputs": [],
   "source": [
    "#  data.to_csv('final-visualization.csv',index=False)"
   ]
  }
 ],
 "metadata": {
  "colab": {
   "collapsed_sections": [],
   "name": "DACW_timeseries_visualizer.ipynb",
   "provenance": [],
   "version": "0.3.2"
  },
  "kernelspec": {
   "display_name": "Python 3",
   "language": "python",
   "name": "python3"
  },
  "language_info": {
   "codemirror_mode": {
    "name": "ipython",
    "version": 3
   },
   "file_extension": ".py",
   "mimetype": "text/x-python",
   "name": "python",
   "nbconvert_exporter": "python",
   "pygments_lexer": "ipython3",
   "version": "3.7.1"
  }
 },
 "nbformat": 4,
 "nbformat_minor": 2
}

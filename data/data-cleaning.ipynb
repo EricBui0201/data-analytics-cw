{
 "cells": [
  {
   "cell_type": "code",
   "execution_count": 104,
   "metadata": {
    "colab": {},
    "colab_type": "code",
    "id": "5vbF1Z5JIozs"
   },
   "outputs": [],
   "source": [
    "import pandas as pd\n",
    "import numpy as np\n",
    "import seaborn as sns\n",
    "\n",
    "import matplotlib.pyplot as plt\n",
    "plt.style.use('ggplot')\n",
    "plt.rcParams[\"figure.figsize\"] = [16,9]\n",
    "%matplotlib inline"
   ]
  },
  {
   "cell_type": "code",
   "execution_count": 105,
   "metadata": {
    "colab": {},
    "colab_type": "code",
    "id": "YumkPXubLGew"
   },
   "outputs": [],
   "source": [
    "#Parsing date column of both datasets to be read by python\n",
    "\n",
    "pdata = pd.read_csv('pollution-1.csv',parse_dates=['ReadingDateTime'])\n",
    "wdata = pd.read_csv('weather-1.csv',parse_dates=['DATE'])"
   ]
  },
  {
   "cell_type": "code",
   "execution_count": 106,
   "metadata": {},
   "outputs": [],
   "source": [
    "#Extracting numerical values of dew point, temperature, wind speed (converting from mps to kmph) and direction\n",
    "\n",
    "wdata['DEW'] = wdata['DEW'].str[:-2].astype(np.float64)/10\n",
    "wdata['TMP'] = wdata['TMP'].str[:-2].astype(np.float64)/10\n",
    "wdata['DIR'] = wdata['WND'].str[:3].astype(np.float64)\n",
    "wdata['SPD'] = (wdata['WND'].str[8:-2].astype(np.float64)/10)*3.6\n",
    "\n",
    "#Calculating relative humidity from dew point and temperature\n",
    "\n",
    "wdata['HUM'] = 100*(np.exp((17.625 * wdata['DEW'])/(243.04 + wdata['DEW']))/np.exp((17.625 * wdata['TMP'])/(243.04 + wdata['TMP'])))\n",
    "\n",
    "#Replacing missing wind direction observations with nulls\n",
    "\n",
    "wdata.DIR.replace(999,np.nan,inplace=True)"
   ]
  },
  {
   "cell_type": "code",
   "execution_count": 107,
   "metadata": {},
   "outputs": [],
   "source": [
    "#Downsampling the weather dataset\n",
    "\n",
    "wdata.index=wdata['DATE']\n",
    "wdata_resampled = wdata.resample('1H').mean()[:17520]\n",
    "wdata = wdata_resampled.reset_index()"
   ]
  },
  {
   "cell_type": "code",
   "execution_count": 108,
   "metadata": {},
   "outputs": [],
   "source": [
    "#Joining the weather and pollution datasets\n",
    "\n",
    "data = pd.concat([wdata['DATE'], wdata['DEW'],wdata['TMP'],wdata['DIR'],wdata['SPD'],wdata['HUM'],pdata.Value[pdata.Species=='NO2'].reset_index(drop=True).rename('NO2'),pdata.Value[(pdata.Species=='O3')].reset_index(drop=True).rename('O3'),pdata.Value[(pdata.Species=='PM2.5')].reset_index(drop=True).rename('PM25')], axis=1)"
   ]
  },
  {
   "cell_type": "code",
   "execution_count": 109,
   "metadata": {},
   "outputs": [
    {
     "name": "stdout",
     "output_type": "stream",
     "text": [
      "DEW: 9\n",
      "TMP: 9\n",
      "DIR: 0\n",
      "SPD: 10\n",
      "HUM: 0\n",
      "NO2: 0\n",
      "O3: 9\n",
      "PM25: 128\n"
     ]
    }
   ],
   "source": [
    "#Number of outilers\n",
    "\n",
    "print('DEW:',((data['DEW'] <= -99) | (data['DEW'] >= 37)).sum())\n",
    "\n",
    "print('TMP:',((data['TMP'] <= -94) | (data['TMP'] >= 62)).sum())\n",
    "\n",
    "print('DIR:',((data['DIR'] < 1) | (data['DIR'] > 360)).sum())\n",
    "\n",
    "print('SPD:',((data['SPD'] < 0) | (data['SPD'] > 324)).sum())\n",
    "\n",
    "print('HUM:',((data['HUM'] < 0) | (data['HUM'] > 100)).sum())\n",
    "\n",
    "print('NO2:',((data['NO2'] < 0) | (data['NO2'] > 601)).sum())\n",
    "\n",
    "print('O3:',((data['O3'] < 0) | (data['O3'] > 241)).sum())\n",
    "\n",
    "print('PM25:',((data['PM25'] < 0) | (data['PM25'] > 71)).sum())"
   ]
  },
  {
   "cell_type": "code",
   "execution_count": 110,
   "metadata": {},
   "outputs": [],
   "source": [
    "#Old method was not ideal\n",
    "# data['DEW'].loc[(data['DEW'] <= -99) | (data['DEW'] >= 37)] = np.nan\n",
    "# data['TMP'].loc[(data['TMP'] <= -94) | (data['TMP'] >= 62)] = np.nan\n",
    "# data['SPD'].loc[(data['SPD'] < 0) | (data['SPD'] > 324)] = np.nan\n",
    "# data['O3'].loc[(data['O3'] < 0) | (data['O3'] > 241)] = np.nan\n",
    "# data['PM25'].loc[(data['PM25'] < 0) | (data['PM25'] > 71)] = np.nan"
   ]
  },
  {
   "cell_type": "code",
   "execution_count": 111,
   "metadata": {},
   "outputs": [],
   "source": [
    "#Replacing outliers with nulls\n",
    "\n",
    "dew_out = data.DEW[(data['DEW'] <= -99) | (data['DEW'] >= 37)]\n",
    "tmp_out = data.TMP[(data['TMP'] <= -94) | (data['TMP'] >= 62)]\n",
    "spd_out = data.SPD[(data['SPD'] < 0) | (data['SPD'] > 324)]\n",
    "o3_out = data.O3[(data['O3'] < 0) | (data['O3'] > 241)]\n",
    "pm25_out = data.PM25[(data['PM25'] < 0) | (data['PM25'] > 71)]\n",
    "data.DEW.replace(dew_out,np.nan,inplace=True)\n",
    "data.TMP.replace(tmp_out,np.nan,inplace=True)\n",
    "data.SPD.replace(spd_out,np.nan,inplace=True)\n",
    "data.O3.replace(o3_out,np.nan,inplace=True)\n",
    "data.PM25.replace(pm25_out,np.nan,inplace=True)"
   ]
  },
  {
   "cell_type": "code",
   "execution_count": 112,
   "metadata": {},
   "outputs": [],
   "source": [
    "#Adding mask columns to filter null values to make dropping/filling easier\n",
    "\n",
    "# data['DEW_MASK'] = data['DEW'].isna()\n",
    "# data['TMP_MASK'] = data['TMP'].isna()\n",
    "# data['DIR_MASK'] = data['DIR'].isna()\n",
    "# data['SPD_MASK'] = data['SPD'].isna()\n",
    "# data['HUM_MASK'] = data['HUM'].isna()\n",
    "# data['NO2_MASK'] = data['NO2'].isna()\n",
    "# data['O3_MASK'] = data['O3'].isna()\n",
    "# data['PM25_MASK'] = data['PM25'].isna()"
   ]
  },
  {
   "cell_type": "code",
   "execution_count": 113,
   "metadata": {},
   "outputs": [],
   "source": [
    "# Add code here to fill null values"
   ]
  },
  {
   "cell_type": "code",
   "execution_count": 114,
   "metadata": {},
   "outputs": [],
   "source": [
    "#Adding date features\n",
    "\n",
    "data['MONTH'] = pd.DatetimeIndex(data['DATE']).month\n",
    "data['HOUR'] = pd.DatetimeIndex(data['DATE']).hour\n",
    "data['DAY'] = data['DATE'].dt.weekday_name\n",
    "data['DAY_CAT'] = data.DAY.astype(\"category\").cat.codes"
   ]
  },
  {
   "cell_type": "code",
   "execution_count": 115,
   "metadata": {},
   "outputs": [],
   "source": [
    "# Adding time shifted features\n",
    "## This is done before removing nulls so that the dataset is continuous\n",
    "### To be cleaned up into a function\n",
    "\n",
    "data['DEW_1'] = data.DEW.shift(periods=1)\n",
    "data['TMP_1'] = data.TMP.shift(periods=1)\n",
    "data['DIR_1'] = data.DIR.shift(periods=1)\n",
    "data['SPD_1'] = data.SPD.shift(periods=1)\n",
    "data['HUM_1'] = data.HUM.shift(periods=1)\n",
    "data['NO2_1'] = data.NO2.shift(periods=1)\n",
    "data['O3_1'] = data.NO2.shift(periods=1)\n",
    "data['PM25_1'] = data.NO2.shift(periods=1)\n",
    "\n",
    "data['DEW_2'] = data.DEW.shift(periods=2)\n",
    "data['TMP_2'] = data.TMP.shift(periods=2)\n",
    "data['DIR_2'] = data.DIR.shift(periods=2)\n",
    "data['HUM_4'] = data.HUM.shift(periods=2)\n",
    "data['SPD_2'] = data.SPD.shift(periods=2)\n",
    "data['NO2_2'] = data.NO2.shift(periods=2)\n",
    "data['O3_2'] = data.NO2.shift(periods=2)\n",
    "data['PM25_2'] = data.NO2.shift(periods=2)\n",
    "\n",
    "data['DEW_3'] = data.DEW.shift(periods=3)\n",
    "data['TMP_3'] = data.TMP.shift(periods=3)\n",
    "data['DIR_3'] = data.DIR.shift(periods=3)\n",
    "data['HUM_4'] = data.HUM.shift(periods=3)\n",
    "data['SPD_3'] = data.SPD.shift(periods=3)\n",
    "data['NO2_3'] = data.NO2.shift(periods=3)\n",
    "data['O3_3'] = data.NO2.shift(periods=3)\n",
    "data['PM25_3'] = data.NO2.shift(periods=3)\n",
    "\n",
    "data['DEW_4'] = data.DEW.shift(periods=4)\n",
    "data['TMP_4'] = data.TMP.shift(periods=4)\n",
    "data['DIR_4'] = data.DIR.shift(periods=4)\n",
    "data['HUM_4'] = data.HUM.shift(periods=4)\n",
    "data['SPD_4'] = data.SPD.shift(periods=4)\n",
    "data['NO2_4'] = data.NO2.shift(periods=4)\n",
    "data['O3_4'] = data.NO2.shift(periods=4)\n",
    "data['PM25_4'] = data.NO2.shift(periods=4)\n",
    "\n",
    "data['DEW_5'] = data.DEW.shift(periods=5)\n",
    "data['TMP_5'] = data.TMP.shift(periods=5)\n",
    "data['DIR_5'] = data.DIR.shift(periods=5)\n",
    "data['HUM_5'] = data.HUM.shift(periods=5)\n",
    "data['SPD_5'] = data.SPD.shift(periods=5)\n",
    "data['NO2_5'] = data.NO2.shift(periods=5)\n",
    "data['O3_5'] = data.NO2.shift(periods=5)\n",
    "data['PM25_5'] = data.NO2.shift(periods=5)"
   ]
  },
  {
   "cell_type": "code",
   "execution_count": null,
   "metadata": {},
   "outputs": [],
   "source": [
    "#Checking number of null values\n",
    "\n",
    "data.isna().sum()"
   ]
  },
  {
   "cell_type": "code",
   "execution_count": null,
   "metadata": {},
   "outputs": [],
   "source": [
    "#Percentage of null values in final dataset\n",
    "\n",
    "data.isna().mean().round(4) * 100"
   ]
  },
  {
   "cell_type": "code",
   "execution_count": 92,
   "metadata": {},
   "outputs": [
    {
     "data": {
      "text/plain": [
       "(5656, 51)"
      ]
     },
     "execution_count": 92,
     "metadata": {},
     "output_type": "execute_result"
    }
   ],
   "source": [
    "# Show rows where any cell has a NaN\n",
    "data[data.isnull().any(axis=1)].shape"
   ]
  },
  {
   "cell_type": "code",
   "execution_count": 116,
   "metadata": {},
   "outputs": [],
   "source": [
    "#dropping all null values\n",
    "\n",
    "data_dropped = data.dropna(axis=0).reset_index(drop=True)"
   ]
  },
  {
   "cell_type": "code",
   "execution_count": 118,
   "metadata": {},
   "outputs": [],
   "source": [
    "#dropping unwanted columns to create final dataset for model\n",
    "data_final_dropped = data_dropped.drop(['DATE','DAY'], axis=1)"
   ]
  },
  {
   "cell_type": "code",
   "execution_count": 120,
   "metadata": {},
   "outputs": [],
   "source": [
    "data_final_dropped.to_csv('final-dropped.csv',index=False)"
   ]
  }
 ],
 "metadata": {
  "colab": {
   "collapsed_sections": [],
   "name": "DACW_timeseries_visualizer.ipynb",
   "provenance": [],
   "version": "0.3.2"
  },
  "kernelspec": {
   "display_name": "Python 3",
   "language": "python",
   "name": "python3"
  },
  "language_info": {
   "codemirror_mode": {
    "name": "ipython",
    "version": 3
   },
   "file_extension": ".py",
   "mimetype": "text/x-python",
   "name": "python",
   "nbconvert_exporter": "python",
   "pygments_lexer": "ipython3",
   "version": "3.7.1"
  }
 },
 "nbformat": 4,
 "nbformat_minor": 2
}

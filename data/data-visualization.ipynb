{
 "cells": [
  {
   "cell_type": "code",
   "execution_count": 1,
   "metadata": {},
   "outputs": [],
   "source": [
    "import pandas as pd\n",
    "import numpy as np\n",
    "import seaborn as sns\n",
    "\n",
    "import matplotlib.pyplot as plt\n",
    "plt.style.use('ggplot')\n",
    "plt.rcParams[\"figure.figsize\"] = [16,9]\n",
    "%matplotlib inline"
   ]
  },
  {
   "cell_type": "code",
   "execution_count": 7,
   "metadata": {},
   "outputs": [],
   "source": [
    "#Reading data\n",
    "\n",
    "#This is the original pollution dataset\n",
    "\n",
    "pdata = pd.read_csv('pollution-1.csv',parse_dates=['ReadingDateTime'])\n",
    "\n",
    "#This is the weather dataset after extracting numerical values and downsampling\n",
    "\n",
    "wdata = pd.read_csv('weather-1-cleaned.csv')\n",
    "\n",
    "#This is the final dataset with all added features before handling nulls\n",
    "\n",
    "data  = pd.read_csv('final-visualization.csv')"
   ]
  },
  {
   "cell_type": "code",
   "execution_count": null,
   "metadata": {},
   "outputs": [],
   "source": [
    "##############################  CREATE DATA VISUALISATIONS FOR ALL STEPS #################################"
   ]
  },
  {
   "cell_type": "code",
   "execution_count": null,
   "metadata": {},
   "outputs": [],
   "source": [
    "#Function to plot time series\n",
    "#Need to modify it to take a value as an argument\n",
    "\n",
    "def time_series(start, end):\n",
    "    time_series_df = data[['DATE', 'PM25']][(data['DATE'] >= start) & (data['DATE'] <= end)]\n",
    "    x = time_series_df.DATE\n",
    "    y = time_series_df.PM25\n",
    "    plt.plot(x,y)\n",
    "    plt.xlabel('Time')\n",
    "    plt.ylabel('PM2.5 Value')\n",
    "    plt.title('PM2.5 Time Series')\n",
    "    return plt.show();\n",
    "#time_series('2017','2019')"
   ]
  },
  {
   "cell_type": "code",
   "execution_count": null,
   "metadata": {},
   "outputs": [],
   "source": [
    "%%html\n",
    "<style>\n",
    "  table {margin-left: 0 !important;}\n",
    "</style>"
   ]
  },
  {
   "cell_type": "code",
   "execution_count": null,
   "metadata": {},
   "outputs": [],
   "source": [
    "# Thresholds\n",
    "\n",
    "\n",
    "| Species \t| Min   \t| Max  \t|\n",
    "|---------\t|-------\t|------\t|\n",
    "| DEW     \t| -98.2 \t| 36.8 \t|\n",
    "| TMP     \t| -93.2 \t| 61.8 \t|\n",
    "| DIR     \t| 1     \t| 360  \t|\n",
    "| SPD     \t| 0     \t| 324  \t|\n",
    "| HUM     \t| 0     \t| 100  \t|\n",
    "| NO2     \t| 0     \t| 601  \t|\n",
    "| O3      \t| 0     \t| 241  \t|\n",
    "| PM25    \t| 0     \t| 71   \t|"
   ]
  },
  {
   "cell_type": "code",
   "execution_count": null,
   "metadata": {},
   "outputs": [],
   "source": [
    "#Max and min values before removing outliers\n",
    "\n",
    "minmax = {'Species': ['DEW', 'TMP', 'DIR', 'SPD', 'HUM','NO2','O3','PM25'], \n",
    "        'Min': [data['DEW'].min(), data['TMP'].min(),data['DIR'].min(),data['SPD'].min(),data['HUM'].min(),data['NO2'].min(),data['O3'].min(),data['PM25'].min()], \n",
    "        'Max': [data['DEW'].max(), data['TMP'].max(),data['DIR'].max(),data['SPD'].max(),data['HUM'].max(),data['NO2'].max(),data['O3'].max(),data['PM25'].max()]}\n",
    "minmaxdf = pd.DataFrame(minmax, columns = ['Species', 'Min', 'Max'])\n",
    "minmaxdf"
   ]
  },
  {
   "cell_type": "code",
   "execution_count": null,
   "metadata": {},
   "outputs": [],
   "source": []
  }
 ],
 "metadata": {
  "kernelspec": {
   "display_name": "Python 3",
   "language": "python",
   "name": "python3"
  },
  "language_info": {
   "codemirror_mode": {
    "name": "ipython",
    "version": 3
   },
   "file_extension": ".py",
   "mimetype": "text/x-python",
   "name": "python",
   "nbconvert_exporter": "python",
   "pygments_lexer": "ipython3",
   "version": "3.7.1"
  }
 },
 "nbformat": 4,
 "nbformat_minor": 2
}

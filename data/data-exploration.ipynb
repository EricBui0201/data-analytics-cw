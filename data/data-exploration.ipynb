{
 "cells": [
  {
   "cell_type": "code",
   "execution_count": null,
   "metadata": {
    "colab": {},
    "colab_type": "code",
    "id": "5vbF1Z5JIozs"
   },
   "outputs": [],
   "source": [
    "import pandas as pd\n",
    "import numpy as np\n",
    "import matplotlib.pyplot as plt\n",
    "import seaborn as sns\n",
    "\n",
    "plt.rcParams['axes.labelsize'] = 14\n",
    "plt.rcParams['xtick.labelsize'] = 12\n",
    "plt.rcParams['ytick.labelsize'] = 12\n",
    "plt.rcParams['text.color'] = 'k'"
   ]
  },
  {
   "cell_type": "code",
   "execution_count": 2,
   "metadata": {
    "colab": {
     "base_uri": "https://localhost:8080/",
     "height": 128
    },
    "colab_type": "code",
    "executionInfo": {
     "elapsed": 41886,
     "status": "ok",
     "timestamp": 1552416776645,
     "user": {
      "displayName": "Raja sekar",
      "photoUrl": "https://lh4.googleusercontent.com/-UOyUzZ_rZR0/AAAAAAAAAAI/AAAAAAAAAOE/ft7dQvMAV8g/s64/photo.jpg",
      "userId": "09639649797367597329"
     },
     "user_tz": 0
    },
    "id": "pOQc_xhUABEr",
    "outputId": "518f4db5-7047-410a-9d84-23712272e706"
   },
   "outputs": [
    {
     "name": "stdout",
     "output_type": "stream",
     "text": [
      "Go to this URL in a browser: https://accounts.google.com/o/oauth2/auth?client_id=947318989803-6bn6qk8qdgf4n4g3pfee6491hc0brc4i.apps.googleusercontent.com&redirect_uri=urn%3Aietf%3Awg%3Aoauth%3A2.0%3Aoob&scope=email%20https%3A%2F%2Fwww.googleapis.com%2Fauth%2Fdocs.test%20https%3A%2F%2Fwww.googleapis.com%2Fauth%2Fdrive%20https%3A%2F%2Fwww.googleapis.com%2Fauth%2Fdrive.photos.readonly%20https%3A%2F%2Fwww.googleapis.com%2Fauth%2Fpeopleapi.readonly&response_type=code\n",
      "\n",
      "Enter your authorization code:\n",
      "··········\n",
      "Mounted at /content/drive/\n"
     ]
    }
   ],
   "source": [
    "from google.colab import drive\n",
    "drive.mount('/content/drive/')"
   ]
  },
  {
   "cell_type": "code",
   "execution_count": null,
   "metadata": {
    "colab": {},
    "colab_type": "code",
    "id": "YumkPXubLGew"
   },
   "outputs": [],
   "source": [
    "p_dates = ['ReadingDateTime']\n",
    "w_dates = ['DATE']\n",
    "pdata = pd.read_csv('drive/My Drive/MSC_IoT_QMUL/Data_Analytics/pollution-1.csv',parse_dates=p_dates)\n",
    "wdata = pd.read_csv('drive/My Drive/MSC_IoT_QMUL/Data_Analytics/weather-1.csv',parse_dates=w_dates)\n",
    "# data.head()"
   ]
  },
  {
   "cell_type": "code",
   "execution_count": 71,
   "metadata": {
    "colab": {
     "base_uri": "https://localhost:8080/",
     "height": 35
    },
    "colab_type": "code",
    "executionInfo": {
     "elapsed": 480,
     "status": "ok",
     "timestamp": 1552419463793,
     "user": {
      "displayName": "Raja sekar",
      "photoUrl": "https://lh4.googleusercontent.com/-UOyUzZ_rZR0/AAAAAAAAAAI/AAAAAAAAAOE/ft7dQvMAV8g/s64/photo.jpg",
      "userId": "09639649797367597329"
     },
     "user_tz": 0
    },
    "id": "JKnQ4y9jR6Sc",
    "outputId": "051707e3-80ed-44c5-ee1b-43fb8ebe19a9"
   },
   "outputs": [
    {
     "data": {
      "text/plain": [
       "34446"
      ]
     },
     "execution_count": 71,
     "metadata": {
      "tags": []
     },
     "output_type": "execute_result"
    }
   ],
   "source": [
    "wdata.shape[0]"
   ]
  },
  {
   "cell_type": "code",
   "execution_count": 78,
   "metadata": {
    "colab": {
     "base_uri": "https://localhost:8080/",
     "height": 35
    },
    "colab_type": "code",
    "executionInfo": {
     "elapsed": 511,
     "status": "ok",
     "timestamp": 1552419582797,
     "user": {
      "displayName": "Raja sekar",
      "photoUrl": "https://lh4.googleusercontent.com/-UOyUzZ_rZR0/AAAAAAAAAAI/AAAAAAAAAOE/ft7dQvMAV8g/s64/photo.jpg",
      "userId": "09639649797367597329"
     },
     "user_tz": 0
    },
    "id": "mVfF2PB6aXP1",
    "outputId": "dad2ceb3-5fc2-4361-aaf4-f196bacc87c7"
   },
   "outputs": [
    {
     "data": {
      "text/plain": [
       "17520"
      ]
     },
     "execution_count": 78,
     "metadata": {
      "tags": []
     },
     "output_type": "execute_result"
    }
   ],
   "source": [
    "no_data = pdata[pdata.Species=='NO2']\n",
    "oz_data = pdata[pdata.Species=='O3']\n",
    "pm_data = pdata[pdata.Species=='PM2.5']\n",
    "no_data.shape[0]\n",
    "oz_data.shape[0]\n",
    "pm_data.shape[0]"
   ]
  },
  {
   "cell_type": "code",
   "execution_count": 61,
   "metadata": {
    "colab": {
     "base_uri": "https://localhost:8080/",
     "height": 198
    },
    "colab_type": "code",
    "executionInfo": {
     "elapsed": 520,
     "status": "ok",
     "timestamp": 1552419131682,
     "user": {
      "displayName": "Raja sekar",
      "photoUrl": "https://lh4.googleusercontent.com/-UOyUzZ_rZR0/AAAAAAAAAAI/AAAAAAAAAOE/ft7dQvMAV8g/s64/photo.jpg",
      "userId": "09639649797367597329"
     },
     "user_tz": 0
    },
    "id": "QTk-FJeiQmJC",
    "outputId": "fca13f04-6494-4ceb-db17-9147e44b300c"
   },
   "outputs": [
    {
     "data": {
      "text/html": [
       "<div>\n",
       "<style scoped>\n",
       "    .dataframe tbody tr th:only-of-type {\n",
       "        vertical-align: middle;\n",
       "    }\n",
       "\n",
       "    .dataframe tbody tr th {\n",
       "        vertical-align: top;\n",
       "    }\n",
       "\n",
       "    .dataframe thead th {\n",
       "        text-align: right;\n",
       "    }\n",
       "</style>\n",
       "<table border=\"1\" class=\"dataframe\">\n",
       "  <thead>\n",
       "    <tr style=\"text-align: right;\">\n",
       "      <th></th>\n",
       "      <th>DATE</th>\n",
       "      <th>DEW</th>\n",
       "      <th>TMP</th>\n",
       "      <th>WND</th>\n",
       "    </tr>\n",
       "  </thead>\n",
       "  <tbody>\n",
       "    <tr>\n",
       "      <th>0</th>\n",
       "      <td>2017-01-01 00:20:00</td>\n",
       "      <td>+0050,1</td>\n",
       "      <td>+0080,1</td>\n",
       "      <td>230,1,N,0046,1</td>\n",
       "    </tr>\n",
       "    <tr>\n",
       "      <th>1</th>\n",
       "      <td>2017-01-01 02:20:00</td>\n",
       "      <td>+0050,1</td>\n",
       "      <td>+0070,1</td>\n",
       "      <td>240,1,N,0046,1</td>\n",
       "    </tr>\n",
       "    <tr>\n",
       "      <th>2</th>\n",
       "      <td>2017-01-01 04:20:00</td>\n",
       "      <td>+0040,1</td>\n",
       "      <td>+0070,1</td>\n",
       "      <td>220,1,N,0036,1</td>\n",
       "    </tr>\n",
       "    <tr>\n",
       "      <th>3</th>\n",
       "      <td>2017-01-01 06:20:00</td>\n",
       "      <td>+0050,1</td>\n",
       "      <td>+0070,1</td>\n",
       "      <td>240,1,V,0036,1</td>\n",
       "    </tr>\n",
       "    <tr>\n",
       "      <th>4</th>\n",
       "      <td>2017-01-01 08:20:00</td>\n",
       "      <td>+0060,1</td>\n",
       "      <td>+0080,1</td>\n",
       "      <td>220,1,V,0031,1</td>\n",
       "    </tr>\n",
       "  </tbody>\n",
       "</table>\n",
       "</div>"
      ],
      "text/plain": [
       "                 DATE      DEW      TMP             WND\n",
       "0 2017-01-01 00:20:00  +0050,1  +0080,1  230,1,N,0046,1\n",
       "1 2017-01-01 02:20:00  +0050,1  +0070,1  240,1,N,0046,1\n",
       "2 2017-01-01 04:20:00  +0040,1  +0070,1  220,1,N,0036,1\n",
       "3 2017-01-01 06:20:00  +0050,1  +0070,1  240,1,V,0036,1\n",
       "4 2017-01-01 08:20:00  +0060,1  +0080,1  220,1,V,0031,1"
      ]
     },
     "execution_count": 61,
     "metadata": {
      "tags": []
     },
     "output_type": "execute_result"
    }
   ],
   "source": [
    "# pdata[pdata.Value.isnull()].shape[0]\n",
    "mask = wdata.index%2==0\n",
    "wdata=wdata[mask]\n",
    "\n",
    "# wdata.reset_index(drop=True)\n",
    "#wdata.head()\n",
    "\n",
    "# wdata['index'] = np.arange(0,wdata.shape[0])\n",
    "# wdata.set_index('index')\n",
    "# wdata.head()\n",
    "# wdata.info()\n",
    "wdata = wdata.reset_index(drop=True)\n",
    "wdata.head()"
   ]
  },
  {
   "cell_type": "code",
   "execution_count": 67,
   "metadata": {
    "colab": {
     "base_uri": "https://localhost:8080/",
     "height": 198
    },
    "colab_type": "code",
    "executionInfo": {
     "elapsed": 511,
     "status": "ok",
     "timestamp": 1552419286786,
     "user": {
      "displayName": "Raja sekar",
      "photoUrl": "https://lh4.googleusercontent.com/-UOyUzZ_rZR0/AAAAAAAAAAI/AAAAAAAAAOE/ft7dQvMAV8g/s64/photo.jpg",
      "userId": "09639649797367597329"
     },
     "user_tz": 0
    },
    "id": "p6trOtXZVj0V",
    "outputId": "f22382d5-4bc3-44de-898f-07f984766c30"
   },
   "outputs": [
    {
     "data": {
      "text/html": [
       "<div>\n",
       "<style scoped>\n",
       "    .dataframe tbody tr th:only-of-type {\n",
       "        vertical-align: middle;\n",
       "    }\n",
       "\n",
       "    .dataframe tbody tr th {\n",
       "        vertical-align: top;\n",
       "    }\n",
       "\n",
       "    .dataframe thead th {\n",
       "        text-align: right;\n",
       "    }\n",
       "</style>\n",
       "<table border=\"1\" class=\"dataframe\">\n",
       "  <thead>\n",
       "    <tr style=\"text-align: right;\">\n",
       "      <th></th>\n",
       "      <th>Site</th>\n",
       "      <th>Species</th>\n",
       "      <th>ReadingDateTime</th>\n",
       "      <th>Value</th>\n",
       "      <th>DEW</th>\n",
       "      <th>TMP</th>\n",
       "      <th>WND</th>\n",
       "    </tr>\n",
       "  </thead>\n",
       "  <tbody>\n",
       "    <tr>\n",
       "      <th>0</th>\n",
       "      <td>TH4</td>\n",
       "      <td>NO2</td>\n",
       "      <td>2017-01-01 00:00:00</td>\n",
       "      <td>38.9</td>\n",
       "      <td>+0050,1</td>\n",
       "      <td>+0080,1</td>\n",
       "      <td>230,1,N,0046,1</td>\n",
       "    </tr>\n",
       "    <tr>\n",
       "      <th>1</th>\n",
       "      <td>TH4</td>\n",
       "      <td>NO2</td>\n",
       "      <td>2017-01-01 01:00:00</td>\n",
       "      <td>63.0</td>\n",
       "      <td>+0050,1</td>\n",
       "      <td>+0070,1</td>\n",
       "      <td>240,1,N,0046,1</td>\n",
       "    </tr>\n",
       "    <tr>\n",
       "      <th>2</th>\n",
       "      <td>TH4</td>\n",
       "      <td>NO2</td>\n",
       "      <td>2017-01-01 02:00:00</td>\n",
       "      <td>47.9</td>\n",
       "      <td>+0040,1</td>\n",
       "      <td>+0070,1</td>\n",
       "      <td>220,1,N,0036,1</td>\n",
       "    </tr>\n",
       "    <tr>\n",
       "      <th>3</th>\n",
       "      <td>TH4</td>\n",
       "      <td>NO2</td>\n",
       "      <td>2017-01-01 03:00:00</td>\n",
       "      <td>51.0</td>\n",
       "      <td>+0050,1</td>\n",
       "      <td>+0070,1</td>\n",
       "      <td>240,1,V,0036,1</td>\n",
       "    </tr>\n",
       "    <tr>\n",
       "      <th>4</th>\n",
       "      <td>TH4</td>\n",
       "      <td>NO2</td>\n",
       "      <td>2017-01-01 04:00:00</td>\n",
       "      <td>42.8</td>\n",
       "      <td>+0060,1</td>\n",
       "      <td>+0080,1</td>\n",
       "      <td>220,1,V,0031,1</td>\n",
       "    </tr>\n",
       "  </tbody>\n",
       "</table>\n",
       "</div>"
      ],
      "text/plain": [
       "  Site Species     ReadingDateTime  Value      DEW      TMP             WND\n",
       "0  TH4     NO2 2017-01-01 00:00:00   38.9  +0050,1  +0080,1  230,1,N,0046,1\n",
       "1  TH4     NO2 2017-01-01 01:00:00   63.0  +0050,1  +0070,1  240,1,N,0046,1\n",
       "2  TH4     NO2 2017-01-01 02:00:00   47.9  +0040,1  +0070,1  220,1,N,0036,1\n",
       "3  TH4     NO2 2017-01-01 03:00:00   51.0  +0050,1  +0070,1  240,1,V,0036,1\n",
       "4  TH4     NO2 2017-01-01 04:00:00   42.8  +0060,1  +0080,1  220,1,V,0031,1"
      ]
     },
     "execution_count": 67,
     "metadata": {
      "tags": []
     },
     "output_type": "execute_result"
    }
   ],
   "source": [
    "data = pd.concat([pdata['ReadingDateTime'],no_data], axis=1).drop(['Units','Provisional or Ratified','DATE'],axis=1)\n",
    "data.head()"
   ]
  },
  {
   "cell_type": "code",
   "execution_count": 69,
   "metadata": {
    "colab": {
     "base_uri": "https://localhost:8080/",
     "height": 35
    },
    "colab_type": "code",
    "executionInfo": {
     "elapsed": 509,
     "status": "ok",
     "timestamp": 1552419323764,
     "user": {
      "displayName": "Raja sekar",
      "photoUrl": "https://lh4.googleusercontent.com/-UOyUzZ_rZR0/AAAAAAAAAAI/AAAAAAAAAOE/ft7dQvMAV8g/s64/photo.jpg",
      "userId": "09639649797367597329"
     },
     "user_tz": 0
    },
    "id": "x1b-S3CqZpNk",
    "outputId": "3c5c9315-48a3-406e-bf21-36d9a993e090"
   },
   "outputs": [
    {
     "data": {
      "text/plain": [
       "52560"
      ]
     },
     "execution_count": 69,
     "metadata": {
      "tags": []
     },
     "output_type": "execute_result"
    }
   ],
   "source": [
    "data.shape[0]"
   ]
  },
  {
   "cell_type": "code",
   "execution_count": null,
   "metadata": {
    "colab": {},
    "colab_type": "code",
    "id": "3SvbN1_YKxpr"
   },
   "outputs": [],
   "source": [
    "grouping = (pd.Grouper(key='ReadingDateTime', freq='D'))\n",
    "data['mean_per_day'] = data.groupby(grouping).apply(lambda df: df['Value'].mean())"
   ]
  },
  {
   "cell_type": "code",
   "execution_count": null,
   "metadata": {
    "colab": {
     "base_uri": "https://localhost:8080/",
     "height": 35
    },
    "colab_type": "code",
    "executionInfo": {
     "elapsed": 661,
     "status": "ok",
     "timestamp": 1552400270745,
     "user": {
      "displayName": "Raja sekar",
      "photoUrl": "https://lh4.googleusercontent.com/-UOyUzZ_rZR0/AAAAAAAAAAI/AAAAAAAAAOE/ft7dQvMAV8g/s64/photo.jpg",
      "userId": "09639649797367597329"
     },
     "user_tz": 0
    },
    "id": "4pvroJT2LrLs",
    "outputId": "d198a7ed-7624-4b71-bf9d-88a9d6494b10"
   },
   "outputs": [
    {
     "data": {
      "text/plain": [
       "array([nan])"
      ]
     },
     "execution_count": 24,
     "metadata": {
      "tags": []
     },
     "output_type": "execute_result"
    }
   ],
   "source": [
    "data['mean_per_day'].unique()"
   ]
  },
  {
   "cell_type": "code",
   "execution_count": null,
   "metadata": {
    "colab": {
     "base_uri": "https://localhost:8080/",
     "height": 173
    },
    "colab_type": "code",
    "executionInfo": {
     "elapsed": 533,
     "status": "ok",
     "timestamp": 1552047665406,
     "user": {
      "displayName": "Raja sekar",
      "photoUrl": "https://lh4.googleusercontent.com/-UOyUzZ_rZR0/AAAAAAAAAAI/AAAAAAAAAOE/ft7dQvMAV8g/s64/photo.jpg",
      "userId": "09639649797367597329"
     },
     "user_tz": 0
    },
    "id": "0zJB8UqZP9yX",
    "outputId": "d9b079c3-37c2-470b-999a-b6f5a20e9867"
   },
   "outputs": [
    {
     "name": "stdout",
     "output_type": "stream",
     "text": [
      "<class 'pandas.core.frame.DataFrame'>\n",
      "RangeIndex: 1048575 entries, 0 to 1048574\n",
      "Data columns (total 4 columns):\n",
      "Unnamed: 0       1048575 non-null int64\n",
      "DatetimeBegin    1048575 non-null datetime64[ns]\n",
      "DatetimeEnd      1048575 non-null datetime64[ns]\n",
      "Concentration    1048575 non-null float64\n",
      "dtypes: datetime64[ns](2), float64(1), int64(1)\n",
      "memory usage: 32.0 MB\n"
     ]
    }
   ],
   "source": [
    "data.info()"
   ]
  },
  {
   "cell_type": "code",
   "execution_count": null,
   "metadata": {
    "colab": {
     "base_uri": "https://localhost:8080/",
     "height": 173
    },
    "colab_type": "code",
    "executionInfo": {
     "elapsed": 309453,
     "status": "ok",
     "timestamp": 1552047645336,
     "user": {
      "displayName": "Raja sekar",
      "photoUrl": "https://lh4.googleusercontent.com/-UOyUzZ_rZR0/AAAAAAAAAAI/AAAAAAAAAOE/ft7dQvMAV8g/s64/photo.jpg",
      "userId": "09639649797367597329"
     },
     "user_tz": 0
    },
    "id": "FUIzZcZIOs1I",
    "outputId": "b252d0cb-7483-49e6-a2d1-81561516ac27"
   },
   "outputs": [
    {
     "name": "stdout",
     "output_type": "stream",
     "text": [
      "<class 'pandas.core.frame.DataFrame'>\n",
      "RangeIndex: 1048575 entries, 0 to 1048574\n",
      "Data columns (total 4 columns):\n",
      "Unnamed: 0       1048575 non-null int64\n",
      "DatetimeBegin    1048575 non-null datetime64[ns]\n",
      "DatetimeEnd      1048575 non-null datetime64[ns]\n",
      "Concentration    1048575 non-null float64\n",
      "dtypes: datetime64[ns](2), float64(1), int64(1)\n",
      "memory usage: 32.0 MB\n"
     ]
    }
   ],
   "source": [
    "masterData.info()"
   ]
  },
  {
   "cell_type": "code",
   "execution_count": null,
   "metadata": {
    "colab": {
     "base_uri": "https://localhost:8080/",
     "height": 288
    },
    "colab_type": "code",
    "executionInfo": {
     "elapsed": 443,
     "status": "error",
     "timestamp": 1552046933717,
     "user": {
      "displayName": "Raja sekar",
      "photoUrl": "https://lh4.googleusercontent.com/-UOyUzZ_rZR0/AAAAAAAAAAI/AAAAAAAAAOE/ft7dQvMAV8g/s64/photo.jpg",
      "userId": "09639649797367597329"
     },
     "user_tz": 0
    },
    "id": "2C8AAc_iJvFK",
    "outputId": "51f2b8f8-622a-4e0a-a3e8-2e4c610133c6"
   },
   "outputs": [
    {
     "ename": "AttributeError",
     "evalue": "ignored",
     "output_type": "error",
     "traceback": [
      "\u001b[0;31m---------------------------------------------------------------------------\u001b[0m",
      "\u001b[0;31mAttributeError\u001b[0m                            Traceback (most recent call last)",
      "\u001b[0;32m<ipython-input-21-6208d269f320>\u001b[0m in \u001b[0;36m<module>\u001b[0;34m()\u001b[0m\n\u001b[0;32m----> 1\u001b[0;31m \u001b[0mdata\u001b[0m\u001b[0;34m.\u001b[0m\u001b[0minfo\u001b[0m\u001b[0;34m(\u001b[0m\u001b[0;34m)\u001b[0m\u001b[0;34m\u001b[0m\u001b[0;34m\u001b[0m\u001b[0m\n\u001b[0m",
      "\u001b[0;32m/usr/local/lib/python3.6/dist-packages/pandas/core/generic.py\u001b[0m in \u001b[0;36m__getattr__\u001b[0;34m(self, name)\u001b[0m\n\u001b[1;32m   3612\u001b[0m             \u001b[0;32mif\u001b[0m \u001b[0mname\u001b[0m \u001b[0;32min\u001b[0m \u001b[0mself\u001b[0m\u001b[0;34m.\u001b[0m\u001b[0m_info_axis\u001b[0m\u001b[0;34m:\u001b[0m\u001b[0;34m\u001b[0m\u001b[0;34m\u001b[0m\u001b[0m\n\u001b[1;32m   3613\u001b[0m                 \u001b[0;32mreturn\u001b[0m \u001b[0mself\u001b[0m\u001b[0;34m[\u001b[0m\u001b[0mname\u001b[0m\u001b[0;34m]\u001b[0m\u001b[0;34m\u001b[0m\u001b[0;34m\u001b[0m\u001b[0m\n\u001b[0;32m-> 3614\u001b[0;31m             \u001b[0;32mreturn\u001b[0m \u001b[0mobject\u001b[0m\u001b[0;34m.\u001b[0m\u001b[0m__getattribute__\u001b[0m\u001b[0;34m(\u001b[0m\u001b[0mself\u001b[0m\u001b[0;34m,\u001b[0m \u001b[0mname\u001b[0m\u001b[0;34m)\u001b[0m\u001b[0;34m\u001b[0m\u001b[0;34m\u001b[0m\u001b[0m\n\u001b[0m\u001b[1;32m   3615\u001b[0m \u001b[0;34m\u001b[0m\u001b[0m\n\u001b[1;32m   3616\u001b[0m     \u001b[0;32mdef\u001b[0m \u001b[0m__setattr__\u001b[0m\u001b[0;34m(\u001b[0m\u001b[0mself\u001b[0m\u001b[0;34m,\u001b[0m \u001b[0mname\u001b[0m\u001b[0;34m,\u001b[0m \u001b[0mvalue\u001b[0m\u001b[0;34m)\u001b[0m\u001b[0;34m:\u001b[0m\u001b[0;34m\u001b[0m\u001b[0;34m\u001b[0m\u001b[0m\n",
      "\u001b[0;31mAttributeError\u001b[0m: 'Series' object has no attribute 'info'"
     ]
    }
   ],
   "source": [
    "data.info()"
   ]
  },
  {
   "cell_type": "code",
   "execution_count": null,
   "metadata": {
    "colab": {
     "base_uri": "https://localhost:8080/",
     "height": 34
    },
    "colab_type": "code",
    "executionInfo": {
     "elapsed": 502,
     "status": "ok",
     "timestamp": 1552045969830,
     "user": {
      "displayName": "Raja sekar",
      "photoUrl": "https://lh4.googleusercontent.com/-UOyUzZ_rZR0/AAAAAAAAAAI/AAAAAAAAAOE/ft7dQvMAV8g/s64/photo.jpg",
      "userId": "09639649797367597329"
     },
     "user_tz": 0
    },
    "id": "RNGp5_3kCaLV",
    "outputId": "d02b86ba-1fd4-41b6-8241-2e1f5ff49b72"
   },
   "outputs": [
    {
     "data": {
      "text/plain": [
       "('1/1/2013 10:00', '9/9/2015 9:00')"
      ]
     },
     "execution_count": 5,
     "metadata": {
      "tags": []
     },
     "output_type": "execute_result"
    }
   ],
   "source": [
    "#Date Range of dataset\n",
    "\n",
    "data['DatetimeBegin'].min(), data['DatetimeBegin'].max()"
   ]
  },
  {
   "cell_type": "code",
   "execution_count": null,
   "metadata": {
    "colab": {
     "base_uri": "https://localhost:8080/",
     "height": 34
    },
    "colab_type": "code",
    "executionInfo": {
     "elapsed": 441,
     "status": "ok",
     "timestamp": 1552045973434,
     "user": {
      "displayName": "Raja sekar",
      "photoUrl": "https://lh4.googleusercontent.com/-UOyUzZ_rZR0/AAAAAAAAAAI/AAAAAAAAAOE/ft7dQvMAV8g/s64/photo.jpg",
      "userId": "09639649797367597329"
     },
     "user_tz": 0
    },
    "id": "s4dbOHOSLNcM",
    "outputId": "e9c66ee5-3958-4f44-907f-3db27add5556"
   },
   "outputs": [
    {
     "data": {
      "text/plain": [
       "1048575"
      ]
     },
     "execution_count": 6,
     "metadata": {
      "tags": []
     },
     "output_type": "execute_result"
    }
   ],
   "source": [
    "#plt.plot()\n",
    "data['Concentration'].count()"
   ]
  },
  {
   "cell_type": "code",
   "execution_count": null,
   "metadata": {
    "colab": {
     "base_uri": "https://localhost:8080/",
     "height": 349
    },
    "colab_type": "code",
    "executionInfo": {
     "elapsed": 1460,
     "status": "ok",
     "timestamp": 1552045976755,
     "user": {
      "displayName": "Raja sekar",
      "photoUrl": "https://lh4.googleusercontent.com/-UOyUzZ_rZR0/AAAAAAAAAAI/AAAAAAAAAOE/ft7dQvMAV8g/s64/photo.jpg",
      "userId": "09639649797367597329"
     },
     "user_tz": 0
    },
    "id": "342O5KbSL2QA",
    "outputId": "4c9c385e-b741-4ee9-fc9f-5300e6124887"
   },
   "outputs": [
    {
     "data": {
      "image/png": "[encoded data removed]",
      "text/plain": [
       "<Figure size 576x396 with 1 Axes>"
      ]
     },
     "metadata": {
      "tags": []
     },
     "output_type": "display_data"
    }
   ],
   "source": [
    "plt.plot(list(range(0,data['Concentration'].count())),data['Concentration'].tolist())\n",
    "plt.show()\n",
    "\n"
   ]
  },
  {
   "cell_type": "code",
   "execution_count": null,
   "metadata": {
    "colab": {},
    "colab_type": "code",
    "id": "xU7f7hArM1RA"
   },
   "outputs": [],
   "source": [
    "# #Extracting Day of the week as a list + Adding it as a feature\n",
    "\n",
    "# data['day_of_week'] =  pd.to_datetime(data['DatetimeBegin']).dt.dayofweek\n",
    "# data['month_of_the_year'] = pd.to_datetime(data['DatetimeBegin']).dt.month\n",
    "# data"
   ]
  },
  {
   "cell_type": "code",
   "execution_count": null,
   "metadata": {
    "colab": {
     "base_uri": "https://localhost:8080/",
     "height": 948
    },
    "colab_type": "code",
    "executionInfo": {
     "elapsed": 5209,
     "status": "error",
     "timestamp": 1552044539772,
     "user": {
      "displayName": "Raja sekar",
      "photoUrl": "https://lh4.googleusercontent.com/-UOyUzZ_rZR0/AAAAAAAAAAI/AAAAAAAAAOE/ft7dQvMAV8g/s64/photo.jpg",
      "userId": "09639649797367597329"
     },
     "user_tz": 0
    },
    "id": "KwvTCkYsJr5X",
    "outputId": "a0a55117-e2c4-4f0b-9b64-66ab4303135c"
   },
   "outputs": [
    {
     "ename": "KeyboardInterrupt",
     "evalue": "ignored",
     "output_type": "error",
     "traceback": [
      "\u001b[0;31m---------------------------------------------------------------------------\u001b[0m",
      "\u001b[0;31mValueError\u001b[0m                                Traceback (most recent call last)",
      "\u001b[0;32mpandas/_libs/tslib.pyx\u001b[0m in \u001b[0;36mpandas._libs.tslib.array_to_datetime\u001b[0;34m()\u001b[0m\n",
      "\u001b[0;32mpandas/_libs/src/datetime.pxd\u001b[0m in \u001b[0;36mdatetime._string_to_dts\u001b[0;34m()\u001b[0m\n",
      "\u001b[0;31mValueError\u001b[0m: Error parsing datetime string \"1/19/2013 20:00\" at position 1",
      "\nDuring handling of the above exception, another exception occurred:\n",
      "\u001b[0;31mKeyboardInterrupt\u001b[0m                         Traceback (most recent call last)",
      "\u001b[0;32m<ipython-input-25-df3176fb6e71>\u001b[0m in \u001b[0;36m<module>\u001b[0;34m()\u001b[0m\n\u001b[0;32m----> 1\u001b[0;31m \u001b[0mpd\u001b[0m\u001b[0;34m.\u001b[0m\u001b[0mto_datetime\u001b[0m\u001b[0;34m(\u001b[0m\u001b[0mdata\u001b[0m\u001b[0;34m[\u001b[0m\u001b[0;34m'DatetimeBegin'\u001b[0m\u001b[0;34m]\u001b[0m\u001b[0;34m)\u001b[0m\u001b[0;34m.\u001b[0m\u001b[0mdt\u001b[0m\u001b[0;34m.\u001b[0m\u001b[0mstrftime\u001b[0m\u001b[0;34m(\u001b[0m\u001b[0;34m\"%y\"\u001b[0m\u001b[0;34m)\u001b[0m\u001b[0;34m.\u001b[0m\u001b[0munique\u001b[0m\u001b[0;34m(\u001b[0m\u001b[0;34m)\u001b[0m\u001b[0;34m\u001b[0m\u001b[0;34m\u001b[0m\u001b[0m\n\u001b[0m",
      "\u001b[0;32m/usr/local/lib/python3.6/dist-packages/pandas/core/tools/datetimes.py\u001b[0m in \u001b[0;36mto_datetime\u001b[0;34m(arg, errors, dayfirst, yearfirst, utc, box, format, exact, unit, infer_datetime_format, origin)\u001b[0m\n\u001b[1;32m    371\u001b[0m     \u001b[0;32melif\u001b[0m \u001b[0misinstance\u001b[0m\u001b[0;34m(\u001b[0m\u001b[0marg\u001b[0m\u001b[0;34m,\u001b[0m \u001b[0mABCSeries\u001b[0m\u001b[0;34m)\u001b[0m\u001b[0;34m:\u001b[0m\u001b[0;34m\u001b[0m\u001b[0;34m\u001b[0m\u001b[0m\n\u001b[1;32m    372\u001b[0m         \u001b[0;32mfrom\u001b[0m \u001b[0mpandas\u001b[0m \u001b[0;32mimport\u001b[0m \u001b[0mSeries\u001b[0m\u001b[0;34m\u001b[0m\u001b[0;34m\u001b[0m\u001b[0m\n\u001b[0;32m--> 373\u001b[0;31m         \u001b[0mvalues\u001b[0m \u001b[0;34m=\u001b[0m \u001b[0m_convert_listlike\u001b[0m\u001b[0;34m(\u001b[0m\u001b[0marg\u001b[0m\u001b[0;34m.\u001b[0m\u001b[0m_values\u001b[0m\u001b[0;34m,\u001b[0m \u001b[0;32mTrue\u001b[0m\u001b[0;34m,\u001b[0m \u001b[0mformat\u001b[0m\u001b[0;34m)\u001b[0m\u001b[0;34m\u001b[0m\u001b[0;34m\u001b[0m\u001b[0m\n\u001b[0m\u001b[1;32m    374\u001b[0m         \u001b[0mresult\u001b[0m \u001b[0;34m=\u001b[0m \u001b[0mSeries\u001b[0m\u001b[0;34m(\u001b[0m\u001b[0mvalues\u001b[0m\u001b[0;34m,\u001b[0m \u001b[0mindex\u001b[0m\u001b[0;34m=\u001b[0m\u001b[0marg\u001b[0m\u001b[0;34m.\u001b[0m\u001b[0mindex\u001b[0m\u001b[0;34m,\u001b[0m \u001b[0mname\u001b[0m\u001b[0;34m=\u001b[0m\u001b[0marg\u001b[0m\u001b[0;34m.\u001b[0m\u001b[0mname\u001b[0m\u001b[0;34m)\u001b[0m\u001b[0;34m\u001b[0m\u001b[0;34m\u001b[0m\u001b[0m\n\u001b[1;32m    375\u001b[0m     \u001b[0;32melif\u001b[0m \u001b[0misinstance\u001b[0m\u001b[0;34m(\u001b[0m\u001b[0marg\u001b[0m\u001b[0;34m,\u001b[0m \u001b[0;34m(\u001b[0m\u001b[0mABCDataFrame\u001b[0m\u001b[0;34m,\u001b[0m \u001b[0mMutableMapping\u001b[0m\u001b[0;34m)\u001b[0m\u001b[0;34m)\u001b[0m\u001b[0;34m:\u001b[0m\u001b[0;34m\u001b[0m\u001b[0;34m\u001b[0m\u001b[0m\n",
      "\u001b[0;32m/usr/local/lib/python3.6/dist-packages/pandas/core/tools/datetimes.py\u001b[0m in \u001b[0;36m_convert_listlike\u001b[0;34m(arg, box, format, name, tz)\u001b[0m\n\u001b[1;32m    292\u001b[0m                     \u001b[0mdayfirst\u001b[0m\u001b[0;34m=\u001b[0m\u001b[0mdayfirst\u001b[0m\u001b[0;34m,\u001b[0m\u001b[0;34m\u001b[0m\u001b[0;34m\u001b[0m\u001b[0m\n\u001b[1;32m    293\u001b[0m                     \u001b[0myearfirst\u001b[0m\u001b[0;34m=\u001b[0m\u001b[0myearfirst\u001b[0m\u001b[0;34m,\u001b[0m\u001b[0;34m\u001b[0m\u001b[0;34m\u001b[0m\u001b[0m\n\u001b[0;32m--> 294\u001b[0;31m                     \u001b[0mrequire_iso8601\u001b[0m\u001b[0;34m=\u001b[0m\u001b[0mrequire_iso8601\u001b[0m\u001b[0;34m\u001b[0m\u001b[0;34m\u001b[0m\u001b[0m\n\u001b[0m\u001b[1;32m    295\u001b[0m                 )\n\u001b[1;32m    296\u001b[0m \u001b[0;34m\u001b[0m\u001b[0m\n",
      "\u001b[0;32mpandas/_libs/tslib.pyx\u001b[0m in \u001b[0;36mpandas._libs.tslib.array_to_datetime\u001b[0;34m()\u001b[0m\n",
      "\u001b[0;32mpandas/_libs/tslib.pyx\u001b[0m in \u001b[0;36mpandas._libs.tslib.array_to_datetime\u001b[0;34m()\u001b[0m\n",
      "\u001b[0;32mpandas/_libs/tslibs/parsing.pyx\u001b[0m in \u001b[0;36mpandas._libs.tslibs.parsing.parse_datetime_string\u001b[0;34m()\u001b[0m\n",
      "\u001b[0;32mpandas/_libs/tslibs/parsing.pyx\u001b[0m in \u001b[0;36mpandas._libs.tslibs.parsing._parse_dateabbr_string\u001b[0;34m()\u001b[0m\n",
      "\u001b[0;32m/usr/lib/python3.6/_strptime.py\u001b[0m in \u001b[0;36m_strptime_datetime\u001b[0;34m(cls, data_string, format)\u001b[0m\n\u001b[1;32m    563\u001b[0m     \"\"\"Return a class cls instance based on the input string and the\n\u001b[1;32m    564\u001b[0m     format string.\"\"\"\n\u001b[0;32m--> 565\u001b[0;31m     \u001b[0mtt\u001b[0m\u001b[0;34m,\u001b[0m \u001b[0mfraction\u001b[0m \u001b[0;34m=\u001b[0m \u001b[0m_strptime\u001b[0m\u001b[0;34m(\u001b[0m\u001b[0mdata_string\u001b[0m\u001b[0;34m,\u001b[0m \u001b[0mformat\u001b[0m\u001b[0;34m)\u001b[0m\u001b[0;34m\u001b[0m\u001b[0;34m\u001b[0m\u001b[0m\n\u001b[0m\u001b[1;32m    566\u001b[0m     \u001b[0mtzname\u001b[0m\u001b[0;34m,\u001b[0m \u001b[0mgmtoff\u001b[0m \u001b[0;34m=\u001b[0m \u001b[0mtt\u001b[0m\u001b[0;34m[\u001b[0m\u001b[0;34m-\u001b[0m\u001b[0;36m2\u001b[0m\u001b[0;34m:\u001b[0m\u001b[0;34m]\u001b[0m\u001b[0;34m\u001b[0m\u001b[0;34m\u001b[0m\u001b[0m\n\u001b[1;32m    567\u001b[0m     \u001b[0margs\u001b[0m \u001b[0;34m=\u001b[0m \u001b[0mtt\u001b[0m\u001b[0;34m[\u001b[0m\u001b[0;34m:\u001b[0m\u001b[0;36m6\u001b[0m\u001b[0;34m]\u001b[0m \u001b[0;34m+\u001b[0m \u001b[0;34m(\u001b[0m\u001b[0mfraction\u001b[0m\u001b[0;34m,\u001b[0m\u001b[0;34m)\u001b[0m\u001b[0;34m\u001b[0m\u001b[0;34m\u001b[0m\u001b[0m\n",
      "\u001b[0;32m/usr/lib/python3.6/_strptime.py\u001b[0m in \u001b[0;36m_strptime\u001b[0;34m(data_string, format)\u001b[0m\n\u001b[1;32m    324\u001b[0m     format string.\"\"\"\n\u001b[1;32m    325\u001b[0m \u001b[0;34m\u001b[0m\u001b[0m\n\u001b[0;32m--> 326\u001b[0;31m     \u001b[0;32mfor\u001b[0m \u001b[0mindex\u001b[0m\u001b[0;34m,\u001b[0m \u001b[0marg\u001b[0m \u001b[0;32min\u001b[0m \u001b[0menumerate\u001b[0m\u001b[0;34m(\u001b[0m\u001b[0;34m[\u001b[0m\u001b[0mdata_string\u001b[0m\u001b[0;34m,\u001b[0m \u001b[0mformat\u001b[0m\u001b[0;34m]\u001b[0m\u001b[0;34m)\u001b[0m\u001b[0;34m:\u001b[0m\u001b[0;34m\u001b[0m\u001b[0;34m\u001b[0m\u001b[0m\n\u001b[0m\u001b[1;32m    327\u001b[0m         \u001b[0;32mif\u001b[0m \u001b[0;32mnot\u001b[0m \u001b[0misinstance\u001b[0m\u001b[0;34m(\u001b[0m\u001b[0marg\u001b[0m\u001b[0;34m,\u001b[0m \u001b[0mstr\u001b[0m\u001b[0;34m)\u001b[0m\u001b[0;34m:\u001b[0m\u001b[0;34m\u001b[0m\u001b[0;34m\u001b[0m\u001b[0m\n\u001b[1;32m    328\u001b[0m             \u001b[0mmsg\u001b[0m \u001b[0;34m=\u001b[0m \u001b[0;34m\"strptime() argument {} must be str, not {}\"\u001b[0m\u001b[0;34m\u001b[0m\u001b[0;34m\u001b[0m\u001b[0m\n",
      "\u001b[0;31mKeyboardInterrupt\u001b[0m: "
     ]
    }
   ],
   "source": [
    "#Dates that recorded concentration in the dataset\n",
    "pd.to_datetime(data['DatetimeBegin']).dt.strftime(\"%y\").unique()"
   ]
  },
  {
   "cell_type": "markdown",
   "metadata": {
    "colab_type": "text",
    "id": "_8xpWdfaUCX_"
   },
   "source": [
    "Number of days recorded - 1095\n",
    "\n",
    "Expected - 1095 (So no missing dates)\n",
    "\n",
    "Number of years recorded - 3 - (2013,2014,2015)\n",
    "\n",
    "Number of unique month-year recorded - 36"
   ]
  },
  {
   "cell_type": "code",
   "execution_count": null,
   "metadata": {
    "colab": {
     "base_uri": "https://localhost:8080/",
     "height": 206
    },
    "colab_type": "code",
    "executionInfo": {
     "elapsed": 461,
     "status": "ok",
     "timestamp": 1552044569944,
     "user": {
      "displayName": "Raja sekar",
      "photoUrl": "https://lh4.googleusercontent.com/-UOyUzZ_rZR0/AAAAAAAAAAI/AAAAAAAAAOE/ft7dQvMAV8g/s64/photo.jpg",
      "userId": "09639649797367597329"
     },
     "user_tz": 0
    },
    "id": "ZrT0xKIXY3NA",
    "outputId": "86fed47b-4153-4ece-9f0a-feffcf8ba5b0"
   },
   "outputs": [
    {
     "data": {
      "text/html": [
       "<div>\n",
       "<style scoped>\n",
       "    .dataframe tbody tr th:only-of-type {\n",
       "        vertical-align: middle;\n",
       "    }\n",
       "\n",
       "    .dataframe tbody tr th {\n",
       "        vertical-align: top;\n",
       "    }\n",
       "\n",
       "    .dataframe thead th {\n",
       "        text-align: right;\n",
       "    }\n",
       "</style>\n",
       "<table border=\"1\" class=\"dataframe\">\n",
       "  <thead>\n",
       "    <tr style=\"text-align: right;\">\n",
       "      <th></th>\n",
       "      <th>Unnamed: 0</th>\n",
       "      <th>DatetimeBegin</th>\n",
       "      <th>Concentration</th>\n",
       "    </tr>\n",
       "  </thead>\n",
       "  <tbody>\n",
       "    <tr>\n",
       "      <th>0</th>\n",
       "      <td>0</td>\n",
       "      <td>1/1/2013 1:00</td>\n",
       "      <td>54.0</td>\n",
       "    </tr>\n",
       "    <tr>\n",
       "      <th>1</th>\n",
       "      <td>1</td>\n",
       "      <td>1/1/2013 1:00</td>\n",
       "      <td>54.0</td>\n",
       "    </tr>\n",
       "    <tr>\n",
       "      <th>2</th>\n",
       "      <td>2</td>\n",
       "      <td>1/1/2013 1:00</td>\n",
       "      <td>62.5</td>\n",
       "    </tr>\n",
       "    <tr>\n",
       "      <th>3</th>\n",
       "      <td>3</td>\n",
       "      <td>1/1/2013 1:00</td>\n",
       "      <td>62.5</td>\n",
       "    </tr>\n",
       "    <tr>\n",
       "      <th>4</th>\n",
       "      <td>4</td>\n",
       "      <td>1/1/2013 1:00</td>\n",
       "      <td>68.0</td>\n",
       "    </tr>\n",
       "  </tbody>\n",
       "</table>\n",
       "</div>"
      ],
      "text/plain": [
       "   Unnamed: 0  DatetimeBegin  Concentration\n",
       "0           0  1/1/2013 1:00           54.0\n",
       "1           1  1/1/2013 1:00           54.0\n",
       "2           2  1/1/2013 1:00           62.5\n",
       "3           3  1/1/2013 1:00           62.5\n",
       "4           4  1/1/2013 1:00           68.0"
      ]
     },
     "execution_count": 29,
     "metadata": {
      "tags": []
     },
     "output_type": "execute_result"
    }
   ],
   "source": [
    "cols = ['DatetimeEnd']\n",
    "data.drop(cols, axis=1, inplace=True)\n",
    "data.head()"
   ]
  },
  {
   "cell_type": "code",
   "execution_count": null,
   "metadata": {
    "colab": {
     "base_uri": "https://localhost:8080/",
     "height": 427
    },
    "colab_type": "code",
    "executionInfo": {
     "elapsed": 707,
     "status": "error",
     "timestamp": 1552044919677,
     "user": {
      "displayName": "Raja sekar",
      "photoUrl": "https://lh4.googleusercontent.com/-UOyUzZ_rZR0/AAAAAAAAAAI/AAAAAAAAAOE/ft7dQvMAV8g/s64/photo.jpg",
      "userId": "09639649797367597329"
     },
     "user_tz": 0
    },
    "id": "SjOzlrk9Dt6B",
    "outputId": "8dbf55eb-83e9-4e44-ed50-c39261408d60"
   },
   "outputs": [
    {
     "ename": "AttributeError",
     "evalue": "ignored",
     "output_type": "error",
     "traceback": [
      "\u001b[0;31m---------------------------------------------------------------------------\u001b[0m",
      "\u001b[0;31mAttributeError\u001b[0m                            Traceback (most recent call last)",
      "\u001b[0;32m<ipython-input-37-3a8a270a3586>\u001b[0m in \u001b[0;36m<module>\u001b[0;34m()\u001b[0m\n\u001b[0;32m----> 1\u001b[0;31m \u001b[0mdata\u001b[0m\u001b[0;34m=\u001b[0m\u001b[0mdata\u001b[0m\u001b[0;34m.\u001b[0m\u001b[0msort_values\u001b[0m\u001b[0;34m(\u001b[0m\u001b[0;34m'DatetimeBegin'\u001b[0m\u001b[0;34m)\u001b[0m\u001b[0;34m\u001b[0m\u001b[0;34m\u001b[0m\u001b[0m\n\u001b[0m\u001b[1;32m      2\u001b[0m \u001b[0mdata\u001b[0m\u001b[0;34m.\u001b[0m\u001b[0mdtypes\u001b[0m\u001b[0;34m(\u001b[0m\u001b[0;34m)\u001b[0m\u001b[0;34m\u001b[0m\u001b[0;34m\u001b[0m\u001b[0m\n",
      "\u001b[0;32m/usr/local/lib/python3.6/dist-packages/pandas/core/groupby.py\u001b[0m in \u001b[0;36m__getattr__\u001b[0;34m(self, attr)\u001b[0m\n\u001b[1;32m    671\u001b[0m             \u001b[0;32mreturn\u001b[0m \u001b[0mself\u001b[0m\u001b[0;34m[\u001b[0m\u001b[0mattr\u001b[0m\u001b[0;34m]\u001b[0m\u001b[0;34m\u001b[0m\u001b[0;34m\u001b[0m\u001b[0m\n\u001b[1;32m    672\u001b[0m         \u001b[0;32mif\u001b[0m \u001b[0mhasattr\u001b[0m\u001b[0;34m(\u001b[0m\u001b[0mself\u001b[0m\u001b[0;34m.\u001b[0m\u001b[0mobj\u001b[0m\u001b[0;34m,\u001b[0m \u001b[0mattr\u001b[0m\u001b[0;34m)\u001b[0m\u001b[0;34m:\u001b[0m\u001b[0;34m\u001b[0m\u001b[0;34m\u001b[0m\u001b[0m\n\u001b[0;32m--> 673\u001b[0;31m             \u001b[0;32mreturn\u001b[0m \u001b[0mself\u001b[0m\u001b[0;34m.\u001b[0m\u001b[0m_make_wrapper\u001b[0m\u001b[0;34m(\u001b[0m\u001b[0mattr\u001b[0m\u001b[0;34m)\u001b[0m\u001b[0;34m\u001b[0m\u001b[0;34m\u001b[0m\u001b[0m\n\u001b[0m\u001b[1;32m    674\u001b[0m \u001b[0;34m\u001b[0m\u001b[0m\n\u001b[1;32m    675\u001b[0m         raise AttributeError(\"%r object has no attribute %r\" %\n",
      "\u001b[0;32m/usr/local/lib/python3.6/dist-packages/pandas/core/groupby.py\u001b[0m in \u001b[0;36m_make_wrapper\u001b[0;34m(self, name)\u001b[0m\n\u001b[1;32m    685\u001b[0m                    \"using the 'apply' method\".format(kind, name,\n\u001b[1;32m    686\u001b[0m                                                      type(self).__name__))\n\u001b[0;32m--> 687\u001b[0;31m             \u001b[0;32mraise\u001b[0m \u001b[0mAttributeError\u001b[0m\u001b[0;34m(\u001b[0m\u001b[0mmsg\u001b[0m\u001b[0;34m)\u001b[0m\u001b[0;34m\u001b[0m\u001b[0;34m\u001b[0m\u001b[0m\n\u001b[0m\u001b[1;32m    688\u001b[0m \u001b[0;34m\u001b[0m\u001b[0m\n\u001b[1;32m    689\u001b[0m         \u001b[0;31m# need to setup the selection\u001b[0m\u001b[0;34m\u001b[0m\u001b[0;34m\u001b[0m\u001b[0;34m\u001b[0m\u001b[0m\n",
      "\u001b[0;31mAttributeError\u001b[0m: Cannot access callable attribute 'sort_values' of 'DataFrameGroupBy' objects, try using the 'apply' method"
     ]
    }
   ],
   "source": [
    "data=data.sort_values('DatetimeBegin')\n",
    "data.dtypes()"
   ]
  },
  {
   "cell_type": "code",
   "execution_count": null,
   "metadata": {
    "colab": {
     "base_uri": "https://localhost:8080/",
     "height": 206
    },
    "colab_type": "code",
    "executionInfo": {
     "elapsed": 502,
     "status": "ok",
     "timestamp": 1552045565182,
     "user": {
      "displayName": "Raja sekar",
      "photoUrl": "https://lh4.googleusercontent.com/-UOyUzZ_rZR0/AAAAAAAAAAI/AAAAAAAAAOE/ft7dQvMAV8g/s64/photo.jpg",
      "userId": "09639649797367597329"
     },
     "user_tz": 0
    },
    "id": "wkL2eSGiHps-",
    "outputId": "2bd07181-d91c-43de-d4fc-f2b40a473a69"
   },
   "outputs": [
    {
     "data": {
      "text/html": [
       "<div>\n",
       "<style scoped>\n",
       "    .dataframe tbody tr th:only-of-type {\n",
       "        vertical-align: middle;\n",
       "    }\n",
       "\n",
       "    .dataframe tbody tr th {\n",
       "        vertical-align: top;\n",
       "    }\n",
       "\n",
       "    .dataframe thead th {\n",
       "        text-align: right;\n",
       "    }\n",
       "</style>\n",
       "<table border=\"1\" class=\"dataframe\">\n",
       "  <thead>\n",
       "    <tr style=\"text-align: right;\">\n",
       "      <th></th>\n",
       "      <th>Unnamed: 0</th>\n",
       "      <th>DatetimeBegin</th>\n",
       "      <th>DatetimeEnd</th>\n",
       "      <th>Concentration</th>\n",
       "    </tr>\n",
       "  </thead>\n",
       "  <tbody>\n",
       "    <tr>\n",
       "      <th>0</th>\n",
       "      <td>0</td>\n",
       "      <td>1/1/2013 1:00</td>\n",
       "      <td>1/1/2013 2:00</td>\n",
       "      <td>54.0</td>\n",
       "    </tr>\n",
       "    <tr>\n",
       "      <th>1</th>\n",
       "      <td>1</td>\n",
       "      <td>1/1/2013 1:00</td>\n",
       "      <td>1/1/2013 2:00</td>\n",
       "      <td>54.0</td>\n",
       "    </tr>\n",
       "    <tr>\n",
       "      <th>2</th>\n",
       "      <td>2</td>\n",
       "      <td>1/1/2013 1:00</td>\n",
       "      <td>1/1/2013 2:00</td>\n",
       "      <td>62.5</td>\n",
       "    </tr>\n",
       "    <tr>\n",
       "      <th>3</th>\n",
       "      <td>3</td>\n",
       "      <td>1/1/2013 1:00</td>\n",
       "      <td>1/1/2013 2:00</td>\n",
       "      <td>62.5</td>\n",
       "    </tr>\n",
       "    <tr>\n",
       "      <th>4</th>\n",
       "      <td>4</td>\n",
       "      <td>1/1/2013 1:00</td>\n",
       "      <td>1/1/2013 2:00</td>\n",
       "      <td>68.0</td>\n",
       "    </tr>\n",
       "  </tbody>\n",
       "</table>\n",
       "</div>"
      ],
      "text/plain": [
       "   Unnamed: 0  DatetimeBegin    DatetimeEnd  Concentration\n",
       "0           0  1/1/2013 1:00  1/1/2013 2:00           54.0\n",
       "1           1  1/1/2013 1:00  1/1/2013 2:00           54.0\n",
       "2           2  1/1/2013 1:00  1/1/2013 2:00           62.5\n",
       "3           3  1/1/2013 1:00  1/1/2013 2:00           62.5\n",
       "4           4  1/1/2013 1:00  1/1/2013 2:00           68.0"
      ]
     },
     "execution_count": 46,
     "metadata": {
      "tags": []
     },
     "output_type": "execute_result"
    }
   ],
   "source": [
    "data.drop(0)\n",
    "data.head(5)\n"
   ]
  },
  {
   "cell_type": "code",
   "execution_count": null,
   "metadata": {
    "colab": {},
    "colab_type": "code",
    "id": "9JmL_g7BGzuk"
   },
   "outputs": [],
   "source": [
    "#Represent all the values of an hour's concentration value by its mean\n",
    "\n",
    "grouping = (pd.Grouper(key='DatetimeBegin', freq='H'))\n",
    "data = data.groupby(grouping,group_keys=False).apply(lambda df: df['Concentration'].mean())"
   ]
  },
  {
   "cell_type": "code",
   "execution_count": null,
   "metadata": {
    "colab": {
     "base_uri": "https://localhost:8080/",
     "height": 139
    },
    "colab_type": "code",
    "executionInfo": {
     "elapsed": 465,
     "status": "ok",
     "timestamp": 1552047695119,
     "user": {
      "displayName": "Raja sekar",
      "photoUrl": "https://lh4.googleusercontent.com/-UOyUzZ_rZR0/AAAAAAAAAAI/AAAAAAAAAOE/ft7dQvMAV8g/s64/photo.jpg",
      "userId": "09639649797367597329"
     },
     "user_tz": 0
    },
    "id": "3qSKlpm7Dydh",
    "outputId": "5dd45c9c-4b68-4ae9-e1c3-b04c01956a1e"
   },
   "outputs": [
    {
     "data": {
      "text/plain": [
       "DatetimeBegin\n",
       "2013-01-01 01:00:00    63.836066\n",
       "2013-01-01 02:00:00    62.855932\n",
       "2013-01-01 03:00:00    61.118644\n",
       "2013-01-01 04:00:00    59.663934\n",
       "2013-01-01 05:00:00    57.467213\n",
       "Freq: H, dtype: float64"
      ]
     },
     "execution_count": 29,
     "metadata": {
      "tags": []
     },
     "output_type": "execute_result"
    }
   ],
   "source": [
    "\n",
    "data.head(5)"
   ]
  }
 ],
 "metadata": {
  "colab": {
   "collapsed_sections": [],
   "name": "DACW_timeseries_visualizer.ipynb",
   "provenance": [],
   "version": "0.3.2"
  },
  "kernelspec": {
   "display_name": "Python 3",
   "language": "python",
   "name": "python3"
  },
  "language_info": {
   "codemirror_mode": {
    "name": "ipython",
    "version": 3
   },
   "file_extension": ".py",
   "mimetype": "text/x-python",
   "name": "python",
   "nbconvert_exporter": "python",
   "pygments_lexer": "ipython3",
   "version": "3.7.1"
  }
 },
 "nbformat": 4,
 "nbformat_minor": 2
}

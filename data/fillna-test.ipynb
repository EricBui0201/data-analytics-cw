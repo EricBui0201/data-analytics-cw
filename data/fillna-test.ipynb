{
 "cells": [
  {
   "cell_type": "code",
   "execution_count": 3,
   "metadata": {
    "scrolled": true
   },
   "outputs": [
    {
     "name": "stderr",
     "output_type": "stream",
     "text": [
      "/anaconda3/lib/python2.7/site-packages/mkl_fft/__init__.py:27: RuntimeWarning: numpy.ufunc size changed, may indicate binary incompatibility. Expected 192 from C header, got 216 from PyObject\n",
      "  from ._pydfti import (fft, ifft, fft2, ifft2, fftn, ifftn, rfft, irfft,\n"
     ]
    }
   ],
   "source": [
    "import pandas as pd\n",
    "import numpy as np"
   ]
  },
  {
   "cell_type": "code",
   "execution_count": 26,
   "metadata": {},
   "outputs": [],
   "source": [
    "\n",
    "# df = pd.DataFrame(np.random.randint(0,100,size=(100,2)), columns = list('AB'))"
   ]
  },
  {
   "cell_type": "code",
   "execution_count": 27,
   "metadata": {},
   "outputs": [],
   "source": [
    "# df1 = df.mask(np.random.choice([True,False],size = df.shape, p=[.2,.8]))"
   ]
  },
  {
   "cell_type": "code",
   "execution_count": 28,
   "metadata": {},
   "outputs": [],
   "source": [
    "# df2 = df1['B'].replace(np.nan,df['B'].mean()).head(5)"
   ]
  },
  {
   "cell_type": "code",
   "execution_count": 70,
   "metadata": {
    "scrolled": true
   },
   "outputs": [],
   "source": [
    "# df1['B'].head(10)"
   ]
  },
  {
   "cell_type": "code",
   "execution_count": 101,
   "metadata": {
    "scrolled": false
   },
   "outputs": [],
   "source": [
    "#Importing csv that needs NA filling\n",
    "df1 = pd.read_csv('fillna.csv')"
   ]
  },
  {
   "cell_type": "code",
   "execution_count": 102,
   "metadata": {
    "scrolled": false
   },
   "outputs": [
    {
     "data": {
      "text/plain": [
       "Unnamed: 0       0\n",
       "DATE             0\n",
       "DEW            299\n",
       "TMP            299\n",
       "DIR            963\n",
       "SPD            300\n",
       "HUM            290\n",
       "NO2            376\n",
       "O3             761\n",
       "PM25          2861\n",
       "dtype: int64"
      ]
     },
     "execution_count": 102,
     "metadata": {},
     "output_type": "execute_result"
    }
   ],
   "source": [
    "df1.isna().sum()\n"
   ]
  },
  {
   "cell_type": "code",
   "execution_count": 106,
   "metadata": {
    "scrolled": false
   },
   "outputs": [
    {
     "data": {
      "text/plain": [
       "Unnamed: 0    0\n",
       "DATE          0\n",
       "DEW           0\n",
       "TMP           0\n",
       "DIR           0\n",
       "SPD           0\n",
       "HUM           0\n",
       "NO2           0\n",
       "O3            0\n",
       "PM25          0\n",
       "dtype: int64"
      ]
     },
     "execution_count": 106,
     "metadata": {},
     "output_type": "execute_result"
    }
   ],
   "source": [
    "df1_null = df1\n",
    "df1_null.isna().sum()\n"
   ]
  },
  {
   "cell_type": "code",
   "execution_count": 107,
   "metadata": {
    "scrolled": false
   },
   "outputs": [],
   "source": [
    "df1_null['DEW'] = df1_null['DEW'].replace(np.NaN, df1_null['DEW'].mean())\n",
    "df1_null['TMP'] = df1_null['TMP'].replace(np.NaN, df1_null['TMP'].mean())\n",
    "df1_null['DIR'] = df1_null['DIR'].replace(np.NaN, df1_null['DIR'].mean())\n",
    "df1_null['SPD'] = df1_null['SPD'].replace(np.NaN, df1_null['SPD'].mean())\n",
    "df1_null['HUM'] = df1_null['HUM'].replace(np.NaN, df1_null['HUM'].mean())\n",
    "df1_null['NO2'] = df1_null['NO2'].replace(np.NaN, df1_null['NO2'].mean())\n",
    "df1_null['O3']  = df1_null['O3'].replace(np.NaN, df1_null['O3'].mean())\n",
    "df1_null['PM25'] = df1_null['PM25'].replace(np.NaN, df1_null['PM25'].mean())\n",
    "\n",
    "\n",
    "\n",
    "\n"
   ]
  },
  {
   "cell_type": "code",
   "execution_count": 95,
   "metadata": {
    "scrolled": false
   },
   "outputs": [
    {
     "data": {
      "text/plain": [
       "Unnamed: 0    0\n",
       "DATE          0\n",
       "DEW           0\n",
       "TMP           0\n",
       "DIR           0\n",
       "SPD           0\n",
       "HUM           0\n",
       "NO2           0\n",
       "O3            0\n",
       "PM25          0\n",
       "dtype: int64"
      ]
     },
     "execution_count": 95,
     "metadata": {},
     "output_type": "execute_result"
    }
   ],
   "source": [
    "df1.isna().sum()\n"
   ]
  },
  {
   "cell_type": "code",
   "execution_count": 109,
   "metadata": {},
   "outputs": [
    {
     "ename": "AttributeError",
     "evalue": "'module' object has no attribute 'Dataframe'",
     "output_type": "error",
     "traceback": [
      "\u001b[0;31m---------------------------------------------------------------------------\u001b[0m",
      "\u001b[0;31mAttributeError\u001b[0m                            Traceback (most recent call last)",
      "\u001b[0;32m<ipython-input-109-d3a07d957952>\u001b[0m in \u001b[0;36m<module>\u001b[0;34m()\u001b[0m\n\u001b[1;32m      9\u001b[0m \u001b[0mlinreg\u001b[0m\u001b[0;34m.\u001b[0m\u001b[0mfit\u001b[0m\u001b[0;34m(\u001b[0m\u001b[0mtrain_data_x\u001b[0m\u001b[0;34m,\u001b[0m\u001b[0mtrain_data_y\u001b[0m\u001b[0;34m)\u001b[0m\u001b[0;34m\u001b[0m\u001b[0m\n\u001b[1;32m     10\u001b[0m \u001b[0mtest_data\u001b[0m \u001b[0;34m=\u001b[0m \u001b[0mdata_with_null\u001b[0m\u001b[0;34m.\u001b[0m\u001b[0miloc\u001b[0m\u001b[0;34m[\u001b[0m\u001b[0;34m:\u001b[0m\u001b[0;34m,\u001b[0m\u001b[0;34m:\u001b[0m\u001b[0;36m6\u001b[0m\u001b[0;34m]\u001b[0m\u001b[0;34m\u001b[0m\u001b[0m\n\u001b[0;32m---> 11\u001b[0;31m \u001b[0mtemp_predicted\u001b[0m\u001b[0;34m[\u001b[0m\u001b[0;34m'TMP'\u001b[0m\u001b[0;34m]\u001b[0m \u001b[0;34m=\u001b[0m \u001b[0mpd\u001b[0m\u001b[0;34m.\u001b[0m\u001b[0mDataframe\u001b[0m\u001b[0;34m(\u001b[0m\u001b[0mlinreg\u001b[0m\u001b[0;34m.\u001b[0m\u001b[0mpredict\u001b[0m\u001b[0;34m(\u001b[0m\u001b[0mtest_data\u001b[0m\u001b[0;34m)\u001b[0m\u001b[0;34m)\u001b[0m\u001b[0;34m\u001b[0m\u001b[0m\n\u001b[0m\u001b[1;32m     12\u001b[0m \u001b[0mdata_with_null_temp\u001b[0m\u001b[0;34m.\u001b[0m\u001b[0mfillna\u001b[0m\u001b[0;34m(\u001b[0m\u001b[0mtemp_predicted\u001b[0m\u001b[0;34m.\u001b[0m\u001b[0mTMP\u001b[0m\u001b[0;34m,\u001b[0m\u001b[0minplace\u001b[0m\u001b[0;34m=\u001b[0m\u001b[0mTrue\u001b[0m\u001b[0;34m)\u001b[0m\u001b[0;34m\u001b[0m\u001b[0m\n",
      "\u001b[0;31mAttributeError\u001b[0m: 'module' object has no attribute 'Dataframe'"
     ]
    }
   ],
   "source": [
    "#Predicting the missing values\n",
    "df2_null = pd.read_csv('fillna.csv')\n",
    "from sklearn.linear_model import LinearRegression\n",
    "linreg = LinearRegression()\n",
    "data_with_null = df2_null[['DEW','TMP','DIR','SPD','HUM','NO2','O3','PM25']].dropna()\n",
    "data_without_null = data_with_null.dropna()\n",
    "train_data_x = data_without_null.iloc[:,:6]\n",
    "train_data_y = data_without_null.iloc[:,:6]\n",
    "linreg.fit(train_data_x,train_data_y)\n",
    "test_data = data_with_null.iloc[:,:6]\n",
    "temp_predicted['TMP'] = pd.Dataframe(linreg.predict(test_data))\n",
    "data_with_null_temp.fillna(temp_predicted.TMP,inplace=True)"
   ]
  },
  {
   "cell_type": "code",
   "execution_count": 121,
   "metadata": {
    "scrolled": false
   },
   "outputs": [
    {
     "data": {
      "text/plain": [
       "Unnamed: 0       0\n",
       "DATE             0\n",
       "DEW            193\n",
       "TMP            193\n",
       "DIR            194\n",
       "SPD            193\n",
       "HUM            193\n",
       "NO2            263\n",
       "O3             637\n",
       "PM25          2395\n",
       "dtype: int64"
      ]
     },
     "execution_count": 121,
     "metadata": {},
     "output_type": "execute_result"
    }
   ],
   "source": [
    "#Filling the values with forfward fill - Fill with previous values.\n",
    "df3 = pd.read_csv('fillna.csv')\n",
    "\n",
    "df3 = df3.fillna(method='ffill',limit=10)\n",
    "df3.isna().sum()\n"
   ]
  },
  {
   "cell_type": "code",
   "execution_count": 124,
   "metadata": {
    "scrolled": false
   },
   "outputs": [
    {
     "data": {
      "text/plain": [
       "Unnamed: 0    0\n",
       "DATE          0\n",
       "DEW           0\n",
       "TMP           0\n",
       "DIR           0\n",
       "SPD           0\n",
       "HUM           0\n",
       "NO2           0\n",
       "O3            0\n",
       "PM25          0\n",
       "dtype: int64"
      ]
     },
     "execution_count": 124,
     "metadata": {},
     "output_type": "execute_result"
    }
   ],
   "source": [
    "#Fills the null values based on intervals.\n",
    "df4 = pd.read_csv('fillna.csv')\n",
    "\n",
    "df4 = df4.interpolate()\n",
    "df4.isna().sum()"
   ]
  },
  {
   "cell_type": "code",
   "execution_count": 155,
   "metadata": {},
   "outputs": [
    {
     "data": {
      "text/plain": [
       "<matplotlib.axes._subplots.AxesSubplot at 0x1a1a35a950>"
      ]
     },
     "execution_count": 155,
     "metadata": {},
     "output_type": "execute_result"
    },
    {
     "data": {
      "image/png": "[encoded data removed]",
      "text/plain": [
       "<Figure size 1080x576 with 1 Axes>"
      ]
     },
     "metadata": {
      "needs_background": "light"
     },
     "output_type": "display_data"
    }
   ],
   "source": [
    "import seaborn as sns\n",
    "import matplotlib.pyplot as plt\n",
    "\n",
    "\n",
    "df5 = pd.read_csv('fillna.csv')\n",
    "df5 = df5.fillna(0)\n",
    "df5.isna().sum()\n",
    "\n",
    "\n",
    "plt.figure(figsize=(15,8))\n",
    "sns.distplot(df5.TMP, bins =30)"
   ]
  },
  {
   "cell_type": "code",
   "execution_count": 157,
   "metadata": {},
   "outputs": [
    {
     "ename": "NameError",
     "evalue": "name 'knn_impute' is not defined",
     "output_type": "error",
     "traceback": [
      "\u001b[0;31m---------------------------------------------------------------------------\u001b[0m",
      "\u001b[0;31mNameError\u001b[0m                                 Traceback (most recent call last)",
      "\u001b[0;32m<ipython-input-157-c2806b2a0983>\u001b[0m in \u001b[0;36m<module>\u001b[0;34m()\u001b[0m\n\u001b[1;32m      1\u001b[0m \u001b[0mdf\u001b[0m \u001b[0;34m=\u001b[0m \u001b[0mpd\u001b[0m\u001b[0;34m.\u001b[0m\u001b[0mread_csv\u001b[0m\u001b[0;34m(\u001b[0m\u001b[0;34m'fillna.csv'\u001b[0m\u001b[0;34m)\u001b[0m\u001b[0;34m\u001b[0m\u001b[0m\n\u001b[1;32m      2\u001b[0m \u001b[0;34m\u001b[0m\u001b[0m\n\u001b[0;32m----> 3\u001b[0;31m knn_impute(target=df['TMP'], attributes=df.drop(['DATE', 'FEW'], 1),\n\u001b[0m\u001b[1;32m      4\u001b[0m                                     \u001b[0maggregation_method\u001b[0m\u001b[0;34m=\u001b[0m\u001b[0;34m\"median\"\u001b[0m\u001b[0;34m,\u001b[0m \u001b[0mk_neighbors\u001b[0m\u001b[0;34m=\u001b[0m\u001b[0;36m10\u001b[0m\u001b[0;34m,\u001b[0m \u001b[0mnumeric_distance\u001b[0m\u001b[0;34m=\u001b[0m\u001b[0;34m'euclidean'\u001b[0m\u001b[0;34m,\u001b[0m\u001b[0;34m\u001b[0m\u001b[0m\n\u001b[1;32m      5\u001b[0m                                     categorical_distance='hamming', missing_neighbors_threshold=0.8)\n",
      "\u001b[0;31mNameError\u001b[0m: name 'knn_impute' is not defined"
     ]
    }
   ],
   "source": [
    "df = pd.read_csv('fillna.csv')\n",
    "\n",
    "knn_impute(target=df['TMP'], attributes=df.drop(['DATE', 'FEW'], 1),\n",
    "                                    aggregation_method=\"median\", k_neighbors=10, numeric_distance='euclidean',\n",
    "                                    categorical_distance='hamming', missing_neighbors_threshold=0.8)"
   ]
  },
  {
   "cell_type": "code",
   "execution_count": null,
   "metadata": {},
   "outputs": [],
   "source": []
  },
  {
   "cell_type": "code",
   "execution_count": null,
   "metadata": {},
   "outputs": [],
   "source": []
  }
 ],
 "metadata": {
  "kernelspec": {
   "display_name": "Python 2",
   "language": "python",
   "name": "python2"
  },
  "language_info": {
   "codemirror_mode": {
    "name": "ipython",
    "version": 2
   },
   "file_extension": ".py",
   "mimetype": "text/x-python",
   "name": "python",
   "nbconvert_exporter": "python",
   "pygments_lexer": "ipython2",
   "version": "2.7.15"
  }
 },
 "nbformat": 4,
 "nbformat_minor": 2
}

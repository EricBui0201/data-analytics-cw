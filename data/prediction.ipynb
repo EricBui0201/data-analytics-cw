{
 "cells": [
  {
   "cell_type": "code",
   "execution_count": 1,
   "metadata": {},
   "outputs": [],
   "source": [
    "import pandas as pd\n",
    "import numpy as np\n",
    "import seaborn as sns\n",
    "from sklearn.model_selection import train_test_split\n",
    "\n",
    "import matplotlib.pyplot as plt\n",
    "plt.style.use('ggplot')\n",
    "plt.rcParams[\"figure.figsize\"] = [16,9]\n",
    "%matplotlib inline"
   ]
  },
  {
   "cell_type": "code",
   "execution_count": 2,
   "metadata": {},
   "outputs": [],
   "source": [
    "#Reading input data\n",
    "\n",
    "#dataset with nulls dropped\n",
    "# new = pd.read_csv('pred/final-new.csv')\n",
    "data = pd.read_csv('pred/final.csv')"
   ]
  },
  {
   "cell_type": "code",
   "execution_count": 3,
   "metadata": {},
   "outputs": [],
   "source": [
    "#Extracting inputs and outputs\n",
    "\n",
    "y = data[['PM25']]\n",
    "X = data.drop(['PM25'], axis=1)\n",
    "\n",
    "# y_new = new[['PM25']]\n",
    "# X_new = new.drop(['PM25'], axis=1)"
   ]
  },
  {
   "cell_type": "code",
   "execution_count": 4,
   "metadata": {},
   "outputs": [
    {
     "data": {
      "text/plain": [
       "(11206, 50)"
      ]
     },
     "execution_count": 4,
     "metadata": {},
     "output_type": "execute_result"
    }
   ],
   "source": [
    "X.shape"
   ]
  },
  {
   "cell_type": "code",
   "execution_count": 5,
   "metadata": {},
   "outputs": [],
   "source": [
    "#Splitting into test and training\n",
    "\n",
    "X_train, X_test, y_train, y_test = train_test_split(X, y, test_size=.3, random_state=1234)"
   ]
  },
  {
   "cell_type": "code",
   "execution_count": 6,
   "metadata": {},
   "outputs": [],
   "source": [
    "#Linear Regression\n",
    "\n",
    "from sklearn.linear_model import LinearRegression\n",
    "from sklearn.metrics import mean_squared_error, mean_absolute_error, r2_score\n",
    "\n",
    "# Create linear regression object\n",
    "regr = LinearRegression()"
   ]
  },
  {
   "cell_type": "code",
   "execution_count": 7,
   "metadata": {},
   "outputs": [
    {
     "data": {
      "text/plain": [
       "LinearRegression(copy_X=True, fit_intercept=True, n_jobs=None,\n",
       "         normalize=False)"
      ]
     },
     "execution_count": 7,
     "metadata": {},
     "output_type": "execute_result"
    }
   ],
   "source": [
    "# Train the model using the training sets\n",
    "regr.fit(X_train, y_train)"
   ]
  },
  {
   "cell_type": "code",
   "execution_count": 8,
   "metadata": {},
   "outputs": [],
   "source": [
    "# Make predictions using the testing set\n",
    "lin_pred = regr.predict(X_test)\n",
    "# lin_pred = regr.predict(X_new)"
   ]
  },
  {
   "cell_type": "code",
   "execution_count": 9,
   "metadata": {},
   "outputs": [
    {
     "data": {
      "text/plain": [
       "0.9191761159918195"
      ]
     },
     "execution_count": 9,
     "metadata": {},
     "output_type": "execute_result"
    }
   ],
   "source": [
    "linear_regression_score = regr.score(X_test, y_test)\n",
    "# linear_regression_score = regr.score(X_new, y_new)\n",
    "linear_regression_score"
   ]
  },
  {
   "cell_type": "code",
   "execution_count": 10,
   "metadata": {},
   "outputs": [
    {
     "name": "stdout",
     "output_type": "stream",
     "text": [
      "Root mean squared error: 3.01\n",
      "Mean absolute error: 2.07\n",
      "R-squared: 0.92\n"
     ]
    }
   ],
   "source": [
    "from math import sqrt\n",
    "# The coefficients\n",
    "#print('Coefficients: \\n', regr.coef_)\n",
    "# The mean squared error\n",
    "RMSE = []\n",
    "MAE = []\n",
    "R2 = [] \n",
    "Score =  []\n",
    "xlabels = []\n",
    "xlabels.append(\"Linear Regression\")\n",
    "Score.append(linear_regression_score)\n",
    "print(\"Root mean squared error: %.2f\"\n",
    "      % sqrt(mean_squared_error(y_test, lin_pred)))\n",
    "RMSE.append(sqrt(mean_squared_error(y_test, lin_pred)))\n",
    "# The absolute squared error\n",
    "print(\"Mean absolute error: %.2f\"\n",
    "      % mean_absolute_error(y_test, lin_pred))\n",
    "MAE.append(mean_absolute_error(y_test, lin_pred))\n",
    "# Explained variance score: 1 is perfect prediction\n",
    "print('R-squared: %.2f' % r2_score(y_test, lin_pred))\n",
    "R2.append(r2_score(y_test, lin_pred))"
   ]
  },
  {
   "cell_type": "code",
   "execution_count": 11,
   "metadata": {},
   "outputs": [
    {
     "data": {
      "image/png": "[encoded data removed]",
      "text/plain": [
       "<Figure size 432x288 with 1 Axes>"
      ]
     },
     "metadata": {
      "needs_background": "light"
     },
     "output_type": "display_data"
    }
   ],
   "source": [
    "#plots to be moved to data visualisation notebook\n",
    "plt.scatter(y_test, lin_pred)\n",
    "plt.xlabel('Measured')\n",
    "plt.ylabel('Predicted')\n",
    "plt.title('Linear Regression Predicted vs Actual')\n",
    "plt.show()"
   ]
  },
  {
   "cell_type": "code",
   "execution_count": 12,
   "metadata": {},
   "outputs": [],
   "source": [
    "#Neural Net Regression\n",
    "from sklearn.neural_network import MLPRegressor\n",
    "from sklearn.metrics import mean_squared_error, mean_absolute_error, r2_score\n",
    "\n",
    "# Create MLPRegressor object\n",
    "mlp = MLPRegressor()"
   ]
  },
  {
   "cell_type": "code",
   "execution_count": 13,
   "metadata": {},
   "outputs": [
    {
     "data": {
      "text/plain": [
       "MLPRegressor(activation='relu', alpha=0.0001, batch_size='auto', beta_1=0.9,\n",
       "       beta_2=0.999, early_stopping=False, epsilon=1e-08,\n",
       "       hidden_layer_sizes=(100,), learning_rate='constant',\n",
       "       learning_rate_init=0.001, max_iter=200, momentum=0.9,\n",
       "       n_iter_no_change=10, nesterovs_momentum=True, power_t=0.5,\n",
       "       random_state=None, shuffle=True, solver='adam', tol=0.0001,\n",
       "       validation_fraction=0.1, verbose=False, warm_start=False)"
      ]
     },
     "execution_count": 13,
     "metadata": {},
     "output_type": "execute_result"
    }
   ],
   "source": [
    "# Train the model using the training sets\n",
    "mlp.fit(X_train, y_train.values.ravel())"
   ]
  },
  {
   "cell_type": "code",
   "execution_count": 14,
   "metadata": {},
   "outputs": [
    {
     "data": {
      "text/plain": [
       "0.8610728062598785"
      ]
     },
     "execution_count": 14,
     "metadata": {},
     "output_type": "execute_result"
    }
   ],
   "source": [
    "# Score the model\n",
    "neural_network_regression_score = mlp.score(X_test, y_test)\n",
    "neural_network_regression_score"
   ]
  },
  {
   "cell_type": "code",
   "execution_count": 15,
   "metadata": {},
   "outputs": [],
   "source": [
    "# Make predictions using the testing set\n",
    "nnr_pred = mlp.predict(X_test)"
   ]
  },
  {
   "cell_type": "code",
   "execution_count": 16,
   "metadata": {},
   "outputs": [
    {
     "name": "stdout",
     "output_type": "stream",
     "text": [
      "Root mean squared error: 3.94\n",
      "Mean absolute error: 2.92\n",
      "R-squared: 0.86\n"
     ]
    }
   ],
   "source": [
    "# The mean squared error\n",
    "xlabels.append(\"NNR\")\n",
    "Score.append(neural_network_regression_score)\n",
    "print(\"Root mean squared error: %.2f\"\n",
    "      % sqrt(mean_squared_error(y_test, nnr_pred)))\n",
    "RMSE.append(sqrt(mean_squared_error(y_test, nnr_pred)))\n",
    "# The absolute squared error\n",
    "print(\"Mean absolute error: %.2f\"\n",
    "      % mean_absolute_error(y_test, nnr_pred))\n",
    "MAE.append(mean_absolute_error(y_test, nnr_pred))\n",
    "# Explained variance score: 1 is perfect prediction\n",
    "print('R-squared: %.2f' % r2_score(y_test, nnr_pred))\n",
    "R2.append(r2_score(y_test, nnr_pred))"
   ]
  },
  {
   "cell_type": "code",
   "execution_count": 17,
   "metadata": {},
   "outputs": [
    {
     "data": {
      "image/png": "[encoded data removed]",
      "text/plain": [
       "<Figure size 432x288 with 1 Axes>"
      ]
     },
     "metadata": {
      "needs_background": "light"
     },
     "output_type": "display_data"
    }
   ],
   "source": [
    "plt.scatter(y_test, nnr_pred)\n",
    "plt.xlabel('Measured')\n",
    "plt.ylabel('Predicted')\n",
    "plt.title('Neural Network Regression Predicted vs Actual')\n",
    "plt.show()"
   ]
  },
  {
   "cell_type": "code",
   "execution_count": 18,
   "metadata": {},
   "outputs": [],
   "source": [
    "#XGBoost\n",
    "import xgboost as xgb\n",
    "#Fitting XGB regressor \n",
    "xboost = xgb.XGBRegressor(n_estimators=200)"
   ]
  },
  {
   "cell_type": "code",
   "execution_count": 19,
   "metadata": {},
   "outputs": [
    {
     "data": {
      "text/plain": [
       "XGBRegressor(base_score=0.5, booster='gbtree', colsample_bylevel=1,\n",
       "       colsample_bytree=1, gamma=0, importance_type='gain',\n",
       "       learning_rate=0.1, max_delta_step=0, max_depth=3,\n",
       "       min_child_weight=1, missing=None, n_estimators=200, n_jobs=1,\n",
       "       nthread=None, objective='reg:linear', random_state=0, reg_alpha=0,\n",
       "       reg_lambda=1, scale_pos_weight=1, seed=None, silent=True,\n",
       "       subsample=1)"
      ]
     },
     "execution_count": 19,
     "metadata": {},
     "output_type": "execute_result"
    }
   ],
   "source": [
    "xboost.fit(X_train, y_train)"
   ]
  },
  {
   "cell_type": "code",
   "execution_count": 20,
   "metadata": {},
   "outputs": [
    {
     "data": {
      "text/plain": [
       "0.9231685287542085"
      ]
     },
     "execution_count": 20,
     "metadata": {},
     "output_type": "execute_result"
    }
   ],
   "source": [
    "xgb_score = xboost.score(X_test, y_test)\n",
    "xgb_score"
   ]
  },
  {
   "cell_type": "code",
   "execution_count": 21,
   "metadata": {},
   "outputs": [],
   "source": [
    "#Predict \n",
    "xboost_pred = xboost.predict(X)"
   ]
  },
  {
   "cell_type": "code",
   "execution_count": 22,
   "metadata": {},
   "outputs": [],
   "source": [
    "reg_pred = pd.DataFrame(xboost_pred)"
   ]
  },
  {
   "cell_type": "code",
   "execution_count": 23,
   "metadata": {},
   "outputs": [],
   "source": [
    "reg_pred.to_csv('predicted-pm25.csv',index=False)"
   ]
  },
  {
   "cell_type": "code",
   "execution_count": 252,
   "metadata": {},
   "outputs": [
    {
     "name": "stdout",
     "output_type": "stream",
     "text": [
      "Root mean squared error: 2.93\n",
      "Mean absolute error: 1.98\n",
      "R-squared: 0.92\n"
     ]
    }
   ],
   "source": [
    "xlabels.append(\"XGBoost\")\n",
    "Score.append(xgb_score)\n",
    "print(\"Root mean squared error: %.2f\"\n",
    "      % sqrt(mean_squared_error(y_test, xboost_pred)))\n",
    "RMSE.append(sqrt(mean_squared_error(y_test, xboost_pred)))\n",
    "print(\"Mean absolute error: %.2f\"\n",
    "      % mean_absolute_error(y_test, xboost_pred))\n",
    "MAE.append(mean_absolute_error(y_test, xboost_pred))\n",
    "print('R-squared: %.2f' % r2_score(y_test, xboost_pred))\n",
    "R2.append(r2_score(y_test, xboost_pred))"
   ]
  },
  {
   "cell_type": "code",
   "execution_count": 253,
   "metadata": {},
   "outputs": [
    {
     "name": "stdout",
     "output_type": "stream",
     "text": [
      "Scores:\n",
      "Linear regression score:  0.9191761159918195\n",
      "Neural network regression score:  0.8862360729410584\n",
      "XGBoost score: 0.9231685287542085\n",
      "\n",
      "\n",
      "RMSE:\n",
      "Linear regression RMSE: 3.01\n",
      "Neural network RMSE: 3.57\n",
      "XGBoost RMSE: 2.93\n"
     ]
    }
   ],
   "source": [
    "print(\"Scores:\")\n",
    "print(\"Linear regression score: \", linear_regression_score)\n",
    "print(\"Neural network regression score: \", neural_network_regression_score)\n",
    "print(\"XGBoost score:\", xgb_score)\n",
    "print(\"\\n\")\n",
    "print(\"RMSE:\")\n",
    "print(\"Linear regression RMSE: %.2f\"\n",
    "      % sqrt(mean_squared_error(y_test, lin_pred)))\n",
    "print(\"Neural network RMSE: %.2f\"\n",
    "      % sqrt(mean_squared_error(y_test, nnr_pred)))\n",
    "print(\"XGBoost RMSE: %.2f\"\n",
    "      % sqrt(mean_squared_error(y_test, xboost_pred)))"
   ]
  },
  {
   "cell_type": "code",
   "execution_count": 254,
   "metadata": {},
   "outputs": [],
   "source": [
    "#Decision Tree + AdaBoost\n",
    "\n",
    "from sklearn.tree import DecisionTreeRegressor\n",
    "from sklearn.ensemble import AdaBoostRegressor\n",
    "from sklearn.metrics import mean_squared_error, mean_absolute_error, r2_score\n",
    "\n",
    "# Create Decision Tree Regressor object\n",
    "tree_1 = DecisionTreeRegressor()\n",
    "\n",
    "tree_2 = AdaBoostRegressor(DecisionTreeRegressor(), n_estimators=200, learning_rate=.1)"
   ]
  },
  {
   "cell_type": "code",
   "execution_count": 255,
   "metadata": {},
   "outputs": [
    {
     "data": {
      "text/plain": [
       "AdaBoostRegressor(base_estimator=DecisionTreeRegressor(criterion='mse', max_depth=None, max_features=None,\n",
       "           max_leaf_nodes=None, min_impurity_decrease=0.0,\n",
       "           min_impurity_split=None, min_samples_leaf=1,\n",
       "           min_samples_split=2, min_weight_fraction_leaf=0.0,\n",
       "           presort=False, random_state=None, splitter='best'),\n",
       "         learning_rate=0.1, loss='linear', n_estimators=200,\n",
       "         random_state=None)"
      ]
     },
     "execution_count": 255,
     "metadata": {},
     "output_type": "execute_result"
    }
   ],
   "source": [
    "# Train the model using the training sets\n",
    "tree_1.fit(X_train, y_train.values.ravel())\n",
    "tree_2.fit(X_train, y_train.values.ravel())"
   ]
  },
  {
   "cell_type": "code",
   "execution_count": 256,
   "metadata": {},
   "outputs": [
    {
     "data": {
      "text/plain": [
       "0.8532775793690267"
      ]
     },
     "execution_count": 256,
     "metadata": {},
     "output_type": "execute_result"
    }
   ],
   "source": [
    "# Score the decision tree model\n",
    "tree_1.score(X_test, y_test)"
   ]
  },
  {
   "cell_type": "code",
   "execution_count": 257,
   "metadata": {},
   "outputs": [
    {
     "data": {
      "text/plain": [
       "0.9169048624275198"
      ]
     },
     "execution_count": 257,
     "metadata": {},
     "output_type": "execute_result"
    }
   ],
   "source": [
    "# Score the boosted decision tree model\n",
    "boosted_tree_score = tree_2.score(X_test, y_test)\n",
    "boosted_tree_score"
   ]
  },
  {
   "cell_type": "code",
   "execution_count": 258,
   "metadata": {},
   "outputs": [],
   "source": [
    "# Make predictions using the testing set\n",
    "tree_1_pred = tree_1.predict(X_test)\n",
    "tree_2_pred = tree_2.predict(X_test)"
   ]
  },
  {
   "cell_type": "code",
   "execution_count": 259,
   "metadata": {},
   "outputs": [
    {
     "name": "stdout",
     "output_type": "stream",
     "text": [
      "Root mean squared error: 4.05\n",
      "Mean absolute error: 2.82\n",
      "R-squared: 0.85\n",
      "Root mean squared error: 3.05\n",
      "Mean absolute error: 2.05\n",
      "R-squared: 0.92\n"
     ]
    }
   ],
   "source": [
    "xlabels.append(\"Decision Tree\")\n",
    "Score.append(tree_1.score(X_test, y_test))\n",
    "print(\"Root mean squared error: %.2f\"\n",
    "      % sqrt(mean_squared_error(y_test, tree_1_pred)))\n",
    "RMSE.append(sqrt(mean_squared_error(y_test, tree_1_pred)))\n",
    "print(\"Mean absolute error: %.2f\"\n",
    "      % mean_absolute_error(y_test, tree_1_pred))\n",
    "MAE.append(mean_absolute_error(y_test, tree_1_pred))\n",
    "print('R-squared: %.2f' % r2_score(y_test, tree_1_pred))\n",
    "R2.append(r2_score(y_test, tree_1_pred))\n",
    "\n",
    "xlabels.append(\"Ada boosted Decision Tree\")\n",
    "Score.append(boosted_tree_score)\n",
    "print(\"Root mean squared error: %.2f\"\n",
    "      % sqrt(mean_squared_error(y_test, tree_2_pred)))\n",
    "RMSE.append(sqrt(mean_squared_error(y_test, tree_2_pred)))\n",
    "print(\"Mean absolute error: %.2f\"\n",
    "      % mean_absolute_error(y_test, tree_2_pred))\n",
    "MAE.append(mean_absolute_error(y_test, tree_2_pred))\n",
    "print('R-squared: %.2f' % r2_score(y_test, tree_2_pred))\n",
    "R2.append(r2_score(y_test, tree_2_pred))"
   ]
  },
  {
   "cell_type": "code",
   "execution_count": 260,
   "metadata": {},
   "outputs": [],
   "source": [
    "boost_pred=pd.DataFrame(tree_2_pred)\n",
    "boost_pred.to_csv('predicted-pm25.csv',index=False)"
   ]
  },
  {
   "cell_type": "code",
   "execution_count": 261,
   "metadata": {},
   "outputs": [
    {
     "data": {
      "text/plain": [
       "['Linear Regression',\n",
       " 'NNR',\n",
       " 'XGBoost',\n",
       " 'Decision Tree',\n",
       " 'Ada boosted Decision Tree']"
      ]
     },
     "execution_count": 261,
     "metadata": {},
     "output_type": "execute_result"
    }
   ],
   "source": [
    "xlabels"
   ]
  },
  {
   "cell_type": "code",
   "execution_count": 262,
   "metadata": {},
   "outputs": [
    {
     "data": {
      "text/plain": [
       "[3.0074757577324314,\n",
       " 3.5680798474443645,\n",
       " 2.932255784857939,\n",
       " 4.052103396918918,\n",
       " 3.0494399286825873]"
      ]
     },
     "execution_count": 262,
     "metadata": {},
     "output_type": "execute_result"
    }
   ],
   "source": [
    "RMSE"
   ]
  },
  {
   "cell_type": "code",
   "execution_count": 263,
   "metadata": {},
   "outputs": [
    {
     "data": {
      "text/plain": [
       "[2.0713869775661484,\n",
       " 2.5708966284930126,\n",
       " 1.9805423905918955,\n",
       " 2.821118381915526,\n",
       " 2.045449137418203]"
      ]
     },
     "execution_count": 263,
     "metadata": {},
     "output_type": "execute_result"
    }
   ],
   "source": [
    "MAE"
   ]
  },
  {
   "cell_type": "code",
   "execution_count": 264,
   "metadata": {},
   "outputs": [
    {
     "data": {
      "text/plain": [
       "[0.9191761159918195,\n",
       " 0.8862360729410584,\n",
       " 0.9231685287542085,\n",
       " 0.8532775793690267,\n",
       " 0.9169048624275197]"
      ]
     },
     "execution_count": 264,
     "metadata": {},
     "output_type": "execute_result"
    }
   ],
   "source": [
    "R2"
   ]
  },
  {
   "cell_type": "code",
   "execution_count": 265,
   "metadata": {},
   "outputs": [
    {
     "data": {
      "text/plain": [
       "[0.9191761159918195,\n",
       " 0.8862360729410584,\n",
       " 0.9231685287542085,\n",
       " 0.8532775793690267,\n",
       " 0.9169048624275198]"
      ]
     },
     "execution_count": 265,
     "metadata": {},
     "output_type": "execute_result"
    }
   ],
   "source": [
    "Score"
   ]
  },
  {
   "cell_type": "code",
   "execution_count": 277,
   "metadata": {},
   "outputs": [
    {
     "data": {
      "image/png": "[encoded data removed]",
      "text/plain": [
       "<Figure size 864x1800 with 1 Axes>"
      ]
     },
     "metadata": {
      "needs_background": "light"
     },
     "output_type": "display_data"
    }
   ],
   "source": [
    "#Plot perfromance\n",
    "plt.rcParams[\"figure.figsize\"] = [12,25]\n",
    "bar_df = pd.DataFrame({'RMSE': RMSE,'MAE': MAE,'R2':R2,'Score':Score}, index=xlabels)\n",
    "ax = bar_df.plot.bar(rot=0)"
   ]
  },
  {
   "cell_type": "code",
   "execution_count": 280,
   "metadata": {},
   "outputs": [
    {
     "data": {
      "text/plain": [
       "<matplotlib.legend.Legend at 0x17e8e860>"
      ]
     },
     "execution_count": 280,
     "metadata": {},
     "output_type": "execute_result"
    },
    {
     "data": {
      "image/png": "[encoded data removed]",
      "text/plain": [
       "<Figure size 864x1800 with 4 Axes>"
      ]
     },
     "metadata": {
      "needs_background": "light"
     },
     "output_type": "display_data"
    }
   ],
   "source": [
    "axes = bar_df.plot.bar(rot=0, subplots=True)\n",
    "axes[0].legend(loc=2)  "
   ]
  },
  {
   "cell_type": "code",
   "execution_count": 268,
   "metadata": {},
   "outputs": [
    {
     "ename": "ModuleNotFoundError",
     "evalue": "No module named 'tensorflow'",
     "output_type": "error",
     "traceback": [
      "\u001b[1;31m---------------------------------------------------------------------------\u001b[0m",
      "\u001b[1;31mModuleNotFoundError\u001b[0m                       Traceback (most recent call last)",
      "\u001b[1;32m<ipython-input-268-e2c00057ff22>\u001b[0m in \u001b[0;36m<module>\u001b[1;34m\u001b[0m\n\u001b[0;32m      2\u001b[0m \u001b[1;32mimport\u001b[0m \u001b[0mpandas\u001b[0m \u001b[1;32mas\u001b[0m \u001b[0mpd\u001b[0m\u001b[1;33m\u001b[0m\u001b[1;33m\u001b[0m\u001b[0m\n\u001b[0;32m      3\u001b[0m \u001b[1;32mimport\u001b[0m \u001b[0mnumpy\u001b[0m \u001b[1;32mas\u001b[0m \u001b[0mnp\u001b[0m\u001b[1;33m\u001b[0m\u001b[1;33m\u001b[0m\u001b[0m\n\u001b[1;32m----> 4\u001b[1;33m \u001b[1;32mimport\u001b[0m \u001b[0mtensorflow\u001b[0m \u001b[1;32mas\u001b[0m \u001b[0mtf\u001b[0m\u001b[1;33m\u001b[0m\u001b[1;33m\u001b[0m\u001b[0m\n\u001b[0m\u001b[0;32m      5\u001b[0m \u001b[1;32mfrom\u001b[0m \u001b[0msklearn\u001b[0m\u001b[1;33m.\u001b[0m\u001b[0mmetrics\u001b[0m \u001b[1;32mimport\u001b[0m \u001b[0mexplained_variance_score\u001b[0m\u001b[1;33m,\u001b[0m\u001b[0;31m \u001b[0m\u001b[0;31m\\\u001b[0m\u001b[1;33m\u001b[0m\u001b[1;33m\u001b[0m\u001b[0m\n\u001b[0;32m      6\u001b[0m     \u001b[0mmean_absolute_error\u001b[0m\u001b[1;33m,\u001b[0m\u001b[0;31m \u001b[0m\u001b[0;31m\\\u001b[0m\u001b[1;33m\u001b[0m\u001b[1;33m\u001b[0m\u001b[0m\n",
      "\u001b[1;31mModuleNotFoundError\u001b[0m: No module named 'tensorflow'"
     ]
    }
   ],
   "source": [
    "#DNN Regressor TensorFlow\n",
    "import pandas as pd\n",
    "import numpy as np\n",
    "import tensorflow as tf\n",
    "from sklearn.metrics import explained_variance_score, \\\n",
    "    mean_absolute_error, \\\n",
    "    median_absolute_error\n",
    "from sklearn.model_selection import train_test_split"
   ]
  },
  {
   "cell_type": "code",
   "execution_count": null,
   "metadata": {},
   "outputs": [],
   "source": []
  },
  {
   "cell_type": "code",
   "execution_count": null,
   "metadata": {},
   "outputs": [],
   "source": [
    "data = pd.read_csv('pred/final-noshift.csv')\n",
    "# X will be a pandas dataframe of all columns except pm25\n",
    "X = data[[col for col in data.columns if col != 'PM25']]\n",
    "\n",
    "# y will be a pandas series of pm25\n",
    "y = data['PM25']"
   ]
  },
  {
   "cell_type": "code",
   "execution_count": null,
   "metadata": {},
   "outputs": [],
   "source": [
    "# split data into training set and a temporary set using sklearn.model_selection.traing_test_split\n",
    "X_train, X_tmp, y_train, y_tmp = train_test_split(X, y, test_size=0.2, random_state=23)"
   ]
  },
  {
   "cell_type": "code",
   "execution_count": null,
   "metadata": {},
   "outputs": [],
   "source": [
    "# take the remaining 20% of data in X_tmp, y_tmp and split them evenly\n",
    "X_test, X_val, y_test, y_val = train_test_split(X_tmp, y_tmp, test_size=0.5, random_state=23)\n",
    "\n",
    "X_train.shape, X_test.shape, X_val.shape\n",
    "print(\"Training instances   {}, Training features   {}\".format(X_train.shape[0], X_train.shape[1]))\n",
    "print(\"Validation instances {}, Validation features {}\".format(X_val.shape[0], X_val.shape[1]))\n",
    "print(\"Testing instances    {}, Testing features    {}\".format(X_test.shape[0], X_test.shape[1]))"
   ]
  },
  {
   "cell_type": "code",
   "execution_count": null,
   "metadata": {},
   "outputs": [],
   "source": [
    "feature_cols = [tf.feature_column.numeric_column(col) for col in X.columns]"
   ]
  },
  {
   "cell_type": "code",
   "execution_count": null,
   "metadata": {},
   "outputs": [],
   "source": [
    "regressor = tf.estimator.DNNRegressor(feature_columns=feature_cols,\n",
    "                                      hidden_units=[50, 50],\n",
    "                                      model_dir='tf_wx_model')"
   ]
  },
  {
   "cell_type": "code",
   "execution_count": null,
   "metadata": {},
   "outputs": [],
   "source": [
    "def wx_input_fn(X, y=None, num_epochs=None, shuffle=True, batch_size=400):\n",
    "    return tf.estimator.inputs.pandas_input_fn(x=X,\n",
    "                                               y=y,\n",
    "                                               num_epochs=num_epochs,\n",
    "                                               shuffle=shuffle,\n",
    "                                               batch_size=batch_size)"
   ]
  },
  {
   "cell_type": "code",
   "execution_count": null,
   "metadata": {},
   "outputs": [],
   "source": [
    "evaluations = []\n",
    "STEPS = 7000\n",
    "for i in range(100):\n",
    "    regressor.train(input_fn=wx_input_fn(X_train, y=y_train), steps=STEPS)\n",
    "    evaluation = regressor.evaluate(input_fn=wx_input_fn(X_val, y_val,\n",
    "                                                         num_epochs=1,\n",
    "                                                         shuffle=False),\n",
    "                                    steps=1)\n",
    "    evaluations.append(regressor.evaluate(input_fn=wx_input_fn(X_val,\n",
    "                                                               y_val,\n",
    "                                                               num_epochs=1,\n",
    "                                                               shuffle=False)))"
   ]
  },
  {
   "cell_type": "code",
   "execution_count": null,
   "metadata": {},
   "outputs": [],
   "source": []
  }
 ],
 "metadata": {
  "kernelspec": {
   "display_name": "Python 3",
   "language": "python",
   "name": "python3"
  },
  "language_info": {
   "codemirror_mode": {
    "name": "ipython",
    "version": 3
   },
   "file_extension": ".py",
   "mimetype": "text/x-python",
   "name": "python",
   "nbconvert_exporter": "python",
   "pygments_lexer": "ipython3",
   "version": "3.7.1"
  }
 },
 "nbformat": 4,
 "nbformat_minor": 2
}
